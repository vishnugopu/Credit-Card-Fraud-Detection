{
 "cells": [
  {
   "cell_type": "code",
   "execution_count": 1,
   "metadata": {},
   "outputs": [],
   "source": [
    "data = read.csv(\"C:/Users/Vsh/Documents/GitHub/Credit-Card-Fraud-Detection/creditcard.csv\")"
   ]
  },
  {
   "cell_type": "code",
   "execution_count": 2,
   "metadata": {},
   "outputs": [
    {
     "data": {
      "text/html": [
       "<table>\n",
       "<thead><tr><th scope=col>Time</th><th scope=col>V1</th><th scope=col>V2</th><th scope=col>V3</th><th scope=col>V4</th><th scope=col>V5</th><th scope=col>V6</th><th scope=col>V7</th><th scope=col>V8</th><th scope=col>V9</th><th scope=col>...</th><th scope=col>V21</th><th scope=col>V22</th><th scope=col>V23</th><th scope=col>V24</th><th scope=col>V25</th><th scope=col>V26</th><th scope=col>V27</th><th scope=col>V28</th><th scope=col>Amount</th><th scope=col>Class</th></tr></thead>\n",
       "<tbody>\n",
       "\t<tr><td>0           </td><td>-1.3598071  </td><td>-0.07278117 </td><td>2.5363467   </td><td> 1.3781552  </td><td>-0.33832077 </td><td> 0.46238778 </td><td> 0.23959855 </td><td> 0.09869790 </td><td> 0.3637870  </td><td>...         </td><td>-0.018306778</td><td> 0.277837576</td><td>-0.11047391 </td><td> 0.06692807 </td><td> 0.1285394  </td><td>-0.1891148  </td><td> 0.133558377</td><td>-0.02105305 </td><td>149.62      </td><td>0           </td></tr>\n",
       "\t<tr><td>0           </td><td> 1.1918571  </td><td> 0.26615071 </td><td>0.1664801   </td><td> 0.4481541  </td><td> 0.06001765 </td><td>-0.08236081 </td><td>-0.07880298 </td><td> 0.08510165 </td><td>-0.2554251  </td><td>...         </td><td>-0.225775248</td><td>-0.638671953</td><td> 0.10128802 </td><td>-0.33984648 </td><td> 0.1671704  </td><td> 0.1258945  </td><td>-0.008983099</td><td> 0.01472417 </td><td>  2.69      </td><td>0           </td></tr>\n",
       "\t<tr><td>1           </td><td>-1.3583541  </td><td>-1.34016307 </td><td>1.7732093   </td><td> 0.3797796  </td><td>-0.50319813 </td><td> 1.80049938 </td><td> 0.79146096 </td><td> 0.24767579 </td><td>-1.5146543  </td><td>...         </td><td> 0.247998153</td><td> 0.771679402</td><td> 0.90941226 </td><td>-0.68928096 </td><td>-0.3276418  </td><td>-0.1390966  </td><td>-0.055352794</td><td>-0.05975184 </td><td>378.66      </td><td>0           </td></tr>\n",
       "\t<tr><td>1           </td><td>-0.9662717  </td><td>-0.18522601 </td><td>1.7929933   </td><td>-0.8632913  </td><td>-0.01030888 </td><td> 1.24720317 </td><td> 0.23760894 </td><td> 0.37743587 </td><td>-1.3870241  </td><td>...         </td><td>-0.108300452</td><td> 0.005273597</td><td>-0.19032052 </td><td>-1.17557533 </td><td> 0.6473760  </td><td>-0.2219288  </td><td> 0.062722849</td><td> 0.06145763 </td><td>123.50      </td><td>0           </td></tr>\n",
       "\t<tr><td>2           </td><td>-1.1582331  </td><td> 0.87773675 </td><td>1.5487178   </td><td> 0.4030339  </td><td>-0.40719338 </td><td> 0.09592146 </td><td> 0.59294075 </td><td>-0.27053268 </td><td> 0.8177393  </td><td>...         </td><td>-0.009430697</td><td> 0.798278495</td><td>-0.13745808 </td><td> 0.14126698 </td><td>-0.2060096  </td><td> 0.5022922  </td><td> 0.219422230</td><td> 0.21515315 </td><td> 69.99      </td><td>0           </td></tr>\n",
       "\t<tr><td>2           </td><td>-0.4259659  </td><td> 0.96052304 </td><td>1.1411093   </td><td>-0.1682521  </td><td> 0.42098688 </td><td>-0.02972755 </td><td> 0.47620095 </td><td> 0.26031433 </td><td>-0.5686714  </td><td>...         </td><td>-0.208253515</td><td>-0.559824796</td><td>-0.02639767 </td><td>-0.37142658 </td><td>-0.2327938  </td><td> 0.1059148  </td><td> 0.253844225</td><td> 0.08108026 </td><td>  3.67      </td><td>0           </td></tr>\n",
       "</tbody>\n",
       "</table>\n"
      ],
      "text/latex": [
       "\\begin{tabular}{r|lllllllllllllllllllllllllllllll}\n",
       " Time & V1 & V2 & V3 & V4 & V5 & V6 & V7 & V8 & V9 & ... & V21 & V22 & V23 & V24 & V25 & V26 & V27 & V28 & Amount & Class\\\\\n",
       "\\hline\n",
       "\t 0            & -1.3598071   & -0.07278117  & 2.5363467    &  1.3781552   & -0.33832077  &  0.46238778  &  0.23959855  &  0.09869790  &  0.3637870   & ...          & -0.018306778 &  0.277837576 & -0.11047391  &  0.06692807  &  0.1285394   & -0.1891148   &  0.133558377 & -0.02105305  & 149.62       & 0           \\\\\n",
       "\t 0            &  1.1918571   &  0.26615071  & 0.1664801    &  0.4481541   &  0.06001765  & -0.08236081  & -0.07880298  &  0.08510165  & -0.2554251   & ...          & -0.225775248 & -0.638671953 &  0.10128802  & -0.33984648  &  0.1671704   &  0.1258945   & -0.008983099 &  0.01472417  &   2.69       & 0           \\\\\n",
       "\t 1            & -1.3583541   & -1.34016307  & 1.7732093    &  0.3797796   & -0.50319813  &  1.80049938  &  0.79146096  &  0.24767579  & -1.5146543   & ...          &  0.247998153 &  0.771679402 &  0.90941226  & -0.68928096  & -0.3276418   & -0.1390966   & -0.055352794 & -0.05975184  & 378.66       & 0           \\\\\n",
       "\t 1            & -0.9662717   & -0.18522601  & 1.7929933    & -0.8632913   & -0.01030888  &  1.24720317  &  0.23760894  &  0.37743587  & -1.3870241   & ...          & -0.108300452 &  0.005273597 & -0.19032052  & -1.17557533  &  0.6473760   & -0.2219288   &  0.062722849 &  0.06145763  & 123.50       & 0           \\\\\n",
       "\t 2            & -1.1582331   &  0.87773675  & 1.5487178    &  0.4030339   & -0.40719338  &  0.09592146  &  0.59294075  & -0.27053268  &  0.8177393   & ...          & -0.009430697 &  0.798278495 & -0.13745808  &  0.14126698  & -0.2060096   &  0.5022922   &  0.219422230 &  0.21515315  &  69.99       & 0           \\\\\n",
       "\t 2            & -0.4259659   &  0.96052304  & 1.1411093    & -0.1682521   &  0.42098688  & -0.02972755  &  0.47620095  &  0.26031433  & -0.5686714   & ...          & -0.208253515 & -0.559824796 & -0.02639767  & -0.37142658  & -0.2327938   &  0.1059148   &  0.253844225 &  0.08108026  &   3.67       & 0           \\\\\n",
       "\\end{tabular}\n"
      ],
      "text/markdown": [
       "\n",
       "| Time | V1 | V2 | V3 | V4 | V5 | V6 | V7 | V8 | V9 | ... | V21 | V22 | V23 | V24 | V25 | V26 | V27 | V28 | Amount | Class |\n",
       "|---|---|---|---|---|---|---|---|---|---|---|---|---|---|---|---|---|---|---|---|---|\n",
       "| 0            | -1.3598071   | -0.07278117  | 2.5363467    |  1.3781552   | -0.33832077  |  0.46238778  |  0.23959855  |  0.09869790  |  0.3637870   | ...          | -0.018306778 |  0.277837576 | -0.11047391  |  0.06692807  |  0.1285394   | -0.1891148   |  0.133558377 | -0.02105305  | 149.62       | 0            |\n",
       "| 0            |  1.1918571   |  0.26615071  | 0.1664801    |  0.4481541   |  0.06001765  | -0.08236081  | -0.07880298  |  0.08510165  | -0.2554251   | ...          | -0.225775248 | -0.638671953 |  0.10128802  | -0.33984648  |  0.1671704   |  0.1258945   | -0.008983099 |  0.01472417  |   2.69       | 0            |\n",
       "| 1            | -1.3583541   | -1.34016307  | 1.7732093    |  0.3797796   | -0.50319813  |  1.80049938  |  0.79146096  |  0.24767579  | -1.5146543   | ...          |  0.247998153 |  0.771679402 |  0.90941226  | -0.68928096  | -0.3276418   | -0.1390966   | -0.055352794 | -0.05975184  | 378.66       | 0            |\n",
       "| 1            | -0.9662717   | -0.18522601  | 1.7929933    | -0.8632913   | -0.01030888  |  1.24720317  |  0.23760894  |  0.37743587  | -1.3870241   | ...          | -0.108300452 |  0.005273597 | -0.19032052  | -1.17557533  |  0.6473760   | -0.2219288   |  0.062722849 |  0.06145763  | 123.50       | 0            |\n",
       "| 2            | -1.1582331   |  0.87773675  | 1.5487178    |  0.4030339   | -0.40719338  |  0.09592146  |  0.59294075  | -0.27053268  |  0.8177393   | ...          | -0.009430697 |  0.798278495 | -0.13745808  |  0.14126698  | -0.2060096   |  0.5022922   |  0.219422230 |  0.21515315  |  69.99       | 0            |\n",
       "| 2            | -0.4259659   |  0.96052304  | 1.1411093    | -0.1682521   |  0.42098688  | -0.02972755  |  0.47620095  |  0.26031433  | -0.5686714   | ...          | -0.208253515 | -0.559824796 | -0.02639767  | -0.37142658  | -0.2327938   |  0.1059148   |  0.253844225 |  0.08108026  |   3.67       | 0            |\n",
       "\n"
      ],
      "text/plain": [
       "  Time V1         V2          V3        V4         V5          V6         \n",
       "1 0    -1.3598071 -0.07278117 2.5363467  1.3781552 -0.33832077  0.46238778\n",
       "2 0     1.1918571  0.26615071 0.1664801  0.4481541  0.06001765 -0.08236081\n",
       "3 1    -1.3583541 -1.34016307 1.7732093  0.3797796 -0.50319813  1.80049938\n",
       "4 1    -0.9662717 -0.18522601 1.7929933 -0.8632913 -0.01030888  1.24720317\n",
       "5 2    -1.1582331  0.87773675 1.5487178  0.4030339 -0.40719338  0.09592146\n",
       "6 2    -0.4259659  0.96052304 1.1411093 -0.1682521  0.42098688 -0.02972755\n",
       "  V7          V8          V9         ... V21          V22          V23        \n",
       "1  0.23959855  0.09869790  0.3637870 ... -0.018306778  0.277837576 -0.11047391\n",
       "2 -0.07880298  0.08510165 -0.2554251 ... -0.225775248 -0.638671953  0.10128802\n",
       "3  0.79146096  0.24767579 -1.5146543 ...  0.247998153  0.771679402  0.90941226\n",
       "4  0.23760894  0.37743587 -1.3870241 ... -0.108300452  0.005273597 -0.19032052\n",
       "5  0.59294075 -0.27053268  0.8177393 ... -0.009430697  0.798278495 -0.13745808\n",
       "6  0.47620095  0.26031433 -0.5686714 ... -0.208253515 -0.559824796 -0.02639767\n",
       "  V24         V25        V26        V27          V28         Amount Class\n",
       "1  0.06692807  0.1285394 -0.1891148  0.133558377 -0.02105305 149.62 0    \n",
       "2 -0.33984648  0.1671704  0.1258945 -0.008983099  0.01472417   2.69 0    \n",
       "3 -0.68928096 -0.3276418 -0.1390966 -0.055352794 -0.05975184 378.66 0    \n",
       "4 -1.17557533  0.6473760 -0.2219288  0.062722849  0.06145763 123.50 0    \n",
       "5  0.14126698 -0.2060096  0.5022922  0.219422230  0.21515315  69.99 0    \n",
       "6 -0.37142658 -0.2327938  0.1059148  0.253844225  0.08108026   3.67 0    "
      ]
     },
     "metadata": {},
     "output_type": "display_data"
    }
   ],
   "source": [
    "head(data)"
   ]
  },
  {
   "cell_type": "code",
   "execution_count": 3,
   "metadata": {},
   "outputs": [
    {
     "data": {
      "text/html": [
       "<ol class=list-inline>\n",
       "\t<li>'Time'</li>\n",
       "\t<li>'V1'</li>\n",
       "\t<li>'V2'</li>\n",
       "\t<li>'V3'</li>\n",
       "\t<li>'V4'</li>\n",
       "\t<li>'V5'</li>\n",
       "\t<li>'V6'</li>\n",
       "\t<li>'V7'</li>\n",
       "\t<li>'V8'</li>\n",
       "\t<li>'V9'</li>\n",
       "\t<li>'V10'</li>\n",
       "\t<li>'V11'</li>\n",
       "\t<li>'V12'</li>\n",
       "\t<li>'V13'</li>\n",
       "\t<li>'V14'</li>\n",
       "\t<li>'V15'</li>\n",
       "\t<li>'V16'</li>\n",
       "\t<li>'V17'</li>\n",
       "\t<li>'V18'</li>\n",
       "\t<li>'V19'</li>\n",
       "\t<li>'V20'</li>\n",
       "\t<li>'V21'</li>\n",
       "\t<li>'V22'</li>\n",
       "\t<li>'V23'</li>\n",
       "\t<li>'V24'</li>\n",
       "\t<li>'V25'</li>\n",
       "\t<li>'V26'</li>\n",
       "\t<li>'V27'</li>\n",
       "\t<li>'V28'</li>\n",
       "\t<li>'Amount'</li>\n",
       "\t<li>'Class'</li>\n",
       "</ol>\n"
      ],
      "text/latex": [
       "\\begin{enumerate*}\n",
       "\\item 'Time'\n",
       "\\item 'V1'\n",
       "\\item 'V2'\n",
       "\\item 'V3'\n",
       "\\item 'V4'\n",
       "\\item 'V5'\n",
       "\\item 'V6'\n",
       "\\item 'V7'\n",
       "\\item 'V8'\n",
       "\\item 'V9'\n",
       "\\item 'V10'\n",
       "\\item 'V11'\n",
       "\\item 'V12'\n",
       "\\item 'V13'\n",
       "\\item 'V14'\n",
       "\\item 'V15'\n",
       "\\item 'V16'\n",
       "\\item 'V17'\n",
       "\\item 'V18'\n",
       "\\item 'V19'\n",
       "\\item 'V20'\n",
       "\\item 'V21'\n",
       "\\item 'V22'\n",
       "\\item 'V23'\n",
       "\\item 'V24'\n",
       "\\item 'V25'\n",
       "\\item 'V26'\n",
       "\\item 'V27'\n",
       "\\item 'V28'\n",
       "\\item 'Amount'\n",
       "\\item 'Class'\n",
       "\\end{enumerate*}\n"
      ],
      "text/markdown": [
       "1. 'Time'\n",
       "2. 'V1'\n",
       "3. 'V2'\n",
       "4. 'V3'\n",
       "5. 'V4'\n",
       "6. 'V5'\n",
       "7. 'V6'\n",
       "8. 'V7'\n",
       "9. 'V8'\n",
       "10. 'V9'\n",
       "11. 'V10'\n",
       "12. 'V11'\n",
       "13. 'V12'\n",
       "14. 'V13'\n",
       "15. 'V14'\n",
       "16. 'V15'\n",
       "17. 'V16'\n",
       "18. 'V17'\n",
       "19. 'V18'\n",
       "20. 'V19'\n",
       "21. 'V20'\n",
       "22. 'V21'\n",
       "23. 'V22'\n",
       "24. 'V23'\n",
       "25. 'V24'\n",
       "26. 'V25'\n",
       "27. 'V26'\n",
       "28. 'V27'\n",
       "29. 'V28'\n",
       "30. 'Amount'\n",
       "31. 'Class'\n",
       "\n",
       "\n"
      ],
      "text/plain": [
       " [1] \"Time\"   \"V1\"     \"V2\"     \"V3\"     \"V4\"     \"V5\"     \"V6\"     \"V7\"    \n",
       " [9] \"V8\"     \"V9\"     \"V10\"    \"V11\"    \"V12\"    \"V13\"    \"V14\"    \"V15\"   \n",
       "[17] \"V16\"    \"V17\"    \"V18\"    \"V19\"    \"V20\"    \"V21\"    \"V22\"    \"V23\"   \n",
       "[25] \"V24\"    \"V25\"    \"V26\"    \"V27\"    \"V28\"    \"Amount\" \"Class\" "
      ]
     },
     "metadata": {},
     "output_type": "display_data"
    }
   ],
   "source": [
    "names(data)"
   ]
  },
  {
   "cell_type": "code",
   "execution_count": 4,
   "metadata": {},
   "outputs": [
    {
     "data": {
      "text/plain": [
       "          \n",
       "           0\n",
       "  25691.16 1"
      ]
     },
     "metadata": {},
     "output_type": "display_data"
    }
   ],
   "source": [
    "table(max(data$Amount),min(data$Amount))"
   ]
  },
  {
   "cell_type": "code",
   "execution_count": 5,
   "metadata": {},
   "outputs": [],
   "source": [
    "# V1-V28 these are principal components\n",
    "# Time- since it is a transactional data set, will have more than 1 line for a specific time period\n",
    "# Amount- amount involved in the transaction\n",
    "# Class- target variable"
   ]
  },
  {
   "cell_type": "code",
   "execution_count": 6,
   "metadata": {},
   "outputs": [],
   "source": [
    "# Exploratory data analysis\n",
    "# Univariate: distributions\n",
    "# Bi-variate: correlations\n",
    "# Multivariate: correlations"
   ]
  },
  {
   "cell_type": "code",
   "execution_count": 7,
   "metadata": {},
   "outputs": [],
   "source": [
    "#table(data$Time,data$Class)"
   ]
  },
  {
   "cell_type": "code",
   "execution_count": 12,
   "metadata": {},
   "outputs": [],
   "source": [
    "library(caret)"
   ]
  },
  {
   "cell_type": "code",
   "execution_count": 9,
   "metadata": {},
   "outputs": [
    {
     "data": {
      "text/html": [
       "<table>\n",
       "<thead><tr><th></th><th scope=col>mpg</th><th scope=col>cyl</th><th scope=col>disp</th><th scope=col>hp</th><th scope=col>drat</th><th scope=col>wt</th><th scope=col>qsec</th><th scope=col>vs</th><th scope=col>am</th><th scope=col>gear</th><th scope=col>carb</th></tr></thead>\n",
       "<tbody>\n",
       "\t<tr><th scope=row>Mazda RX4</th><td>21.0 </td><td>6    </td><td>160  </td><td>110  </td><td>3.90 </td><td>2.620</td><td>16.46</td><td>0    </td><td>1    </td><td>4    </td><td>4    </td></tr>\n",
       "\t<tr><th scope=row>Mazda RX4 Wag</th><td>21.0 </td><td>6    </td><td>160  </td><td>110  </td><td>3.90 </td><td>2.875</td><td>17.02</td><td>0    </td><td>1    </td><td>4    </td><td>4    </td></tr>\n",
       "\t<tr><th scope=row>Datsun 710</th><td>22.8 </td><td>4    </td><td>108  </td><td> 93  </td><td>3.85 </td><td>2.320</td><td>18.61</td><td>1    </td><td>1    </td><td>4    </td><td>1    </td></tr>\n",
       "\t<tr><th scope=row>Hornet 4 Drive</th><td>21.4 </td><td>6    </td><td>258  </td><td>110  </td><td>3.08 </td><td>3.215</td><td>19.44</td><td>1    </td><td>0    </td><td>3    </td><td>1    </td></tr>\n",
       "\t<tr><th scope=row>Hornet Sportabout</th><td>18.7 </td><td>8    </td><td>360  </td><td>175  </td><td>3.15 </td><td>3.440</td><td>17.02</td><td>0    </td><td>0    </td><td>3    </td><td>2    </td></tr>\n",
       "\t<tr><th scope=row>Valiant</th><td>18.1 </td><td>6    </td><td>225  </td><td>105  </td><td>2.76 </td><td>3.460</td><td>20.22</td><td>1    </td><td>0    </td><td>3    </td><td>1    </td></tr>\n",
       "</tbody>\n",
       "</table>\n"
      ],
      "text/latex": [
       "\\begin{tabular}{r|lllllllllll}\n",
       "  & mpg & cyl & disp & hp & drat & wt & qsec & vs & am & gear & carb\\\\\n",
       "\\hline\n",
       "\tMazda RX4 & 21.0  & 6     & 160   & 110   & 3.90  & 2.620 & 16.46 & 0     & 1     & 4     & 4    \\\\\n",
       "\tMazda RX4 Wag & 21.0  & 6     & 160   & 110   & 3.90  & 2.875 & 17.02 & 0     & 1     & 4     & 4    \\\\\n",
       "\tDatsun 710 & 22.8  & 4     & 108   &  93   & 3.85  & 2.320 & 18.61 & 1     & 1     & 4     & 1    \\\\\n",
       "\tHornet 4 Drive & 21.4  & 6     & 258   & 110   & 3.08  & 3.215 & 19.44 & 1     & 0     & 3     & 1    \\\\\n",
       "\tHornet Sportabout & 18.7  & 8     & 360   & 175   & 3.15  & 3.440 & 17.02 & 0     & 0     & 3     & 2    \\\\\n",
       "\tValiant & 18.1  & 6     & 225   & 105   & 2.76  & 3.460 & 20.22 & 1     & 0     & 3     & 1    \\\\\n",
       "\\end{tabular}\n"
      ],
      "text/markdown": [
       "\n",
       "| <!--/--> | mpg | cyl | disp | hp | drat | wt | qsec | vs | am | gear | carb |\n",
       "|---|---|---|---|---|---|---|---|---|---|---|---|\n",
       "| Mazda RX4 | 21.0  | 6     | 160   | 110   | 3.90  | 2.620 | 16.46 | 0     | 1     | 4     | 4     |\n",
       "| Mazda RX4 Wag | 21.0  | 6     | 160   | 110   | 3.90  | 2.875 | 17.02 | 0     | 1     | 4     | 4     |\n",
       "| Datsun 710 | 22.8  | 4     | 108   |  93   | 3.85  | 2.320 | 18.61 | 1     | 1     | 4     | 1     |\n",
       "| Hornet 4 Drive | 21.4  | 6     | 258   | 110   | 3.08  | 3.215 | 19.44 | 1     | 0     | 3     | 1     |\n",
       "| Hornet Sportabout | 18.7  | 8     | 360   | 175   | 3.15  | 3.440 | 17.02 | 0     | 0     | 3     | 2     |\n",
       "| Valiant | 18.1  | 6     | 225   | 105   | 2.76  | 3.460 | 20.22 | 1     | 0     | 3     | 1     |\n",
       "\n"
      ],
      "text/plain": [
       "                  mpg  cyl disp hp  drat wt    qsec  vs am gear carb\n",
       "Mazda RX4         21.0 6   160  110 3.90 2.620 16.46 0  1  4    4   \n",
       "Mazda RX4 Wag     21.0 6   160  110 3.90 2.875 17.02 0  1  4    4   \n",
       "Datsun 710        22.8 4   108   93 3.85 2.320 18.61 1  1  4    1   \n",
       "Hornet 4 Drive    21.4 6   258  110 3.08 3.215 19.44 1  0  3    1   \n",
       "Hornet Sportabout 18.7 8   360  175 3.15 3.440 17.02 0  0  3    2   \n",
       "Valiant           18.1 6   225  105 2.76 3.460 20.22 1  0  3    1   "
      ]
     },
     "metadata": {},
     "output_type": "display_data"
    }
   ],
   "source": [
    "head(mtcars)"
   ]
  },
  {
   "cell_type": "code",
   "execution_count": 10,
   "metadata": {},
   "outputs": [
    {
     "data": {
      "image/png": "[encoded data removed]",
      "text/plain": [
       "plot without title"
      ]
     },
     "metadata": {},
     "output_type": "display_data"
    }
   ],
   "source": [
    "# pairwise plots of all the attributes by class\n",
    "featurePlot(x=mtcars[,1:9],y=mtcars[,10],plot = 'pairs')"
   ]
  },
  {
   "cell_type": "code",
   "execution_count": 11,
   "metadata": {},
   "outputs": [
    {
     "data": {
      "image/png": "[encoded data removed]",
      "text/plain": [
       "plot without title"
      ]
     },
     "metadata": {},
     "output_type": "display_data"
    }
   ],
   "source": [
    "featurePlot(x=mtcars[,1:10],y=mtcars[,11],plot = 'pairs')"
   ]
  },
  {
   "cell_type": "code",
   "execution_count": 13,
   "metadata": {},
   "outputs": [
    {
     "data": {
      "text/plain": [
       "NULL"
      ]
     },
     "metadata": {},
     "output_type": "display_data"
    }
   ],
   "source": [
    "# density plots for each attribute by the class\n",
    "featurePlot(x=data[,2:29],y=data[,31],plot = 'density')"
   ]
  },
  {
   "cell_type": "code",
   "execution_count": 17,
   "metadata": {},
   "outputs": [],
   "source": [
    "library(corrplot)"
   ]
  },
  {
   "cell_type": "code",
   "execution_count": 18,
   "metadata": {},
   "outputs": [
    {
     "data": {
      "image/png": "[encoded data removed]",
      "text/plain": [
       "Plot with title \"\""
      ]
     },
     "metadata": {},
     "output_type": "display_data"
    }
   ],
   "source": [
    "corrplot(cor(data[,2:29]),method = 'number')"
   ]
  },
  {
   "cell_type": "code",
   "execution_count": 19,
   "metadata": {},
   "outputs": [
    {
     "data": {
      "text/plain": [
       "\n",
       "     0      1 \n",
       "284315    492 "
      ]
     },
     "metadata": {},
     "output_type": "display_data"
    }
   ],
   "source": [
    "table(data$Class)"
   ]
  },
  {
   "cell_type": "code",
   "execution_count": null,
   "metadata": {},
   "outputs": [],
   "source": [
    "# Immbalanced data management\n",
    "\n",
    "#1- oversampling\n",
    "#2- undersampling\n",
    "#3- Mixed sampling\n"
   ]
  },
  {
   "cell_type": "code",
   "execution_count": 20,
   "metadata": {},
   "outputs": [
    {
     "ename": "ERROR",
     "evalue": "Error in library(unbalanced): there is no package called 'unbalanced'\n",
     "output_type": "error",
     "traceback": [
      "Error in library(unbalanced): there is no package called 'unbalanced'\nTraceback:\n",
      "1. library(unbalanced)"
     ]
    }
   ],
   "source": [
    "library(unbalanced)\n",
    "library(ROSE)"
   ]
  },
  {
   "cell_type": "code",
   "execution_count": null,
   "metadata": {},
   "outputs": [],
   "source": [
    "# feature selction methodology\n",
    "\n",
    "# to remove the features which are redundant (corr > 0.75)\n",
    "# rank the features by their importance (Learning Vector Quantization (LVQ) model)\n",
    "# select features using Recursive feature elimination (RFE) method"
   ]
  },
  {
   "cell_type": "code",
   "execution_count": 21,
   "metadata": {},
   "outputs": [
    {
     "name": "stdout",
     "output_type": "stream",
     "text": [
      "'data.frame':\t284807 obs. of  31 variables:\n",
      " $ Time  : num  0 0 1 1 2 2 4 7 7 9 ...\n",
      " $ V1    : num  -1.36 1.192 -1.358 -0.966 -1.158 ...\n",
      " $ V2    : num  -0.0728 0.2662 -1.3402 -0.1852 0.8777 ...\n",
      " $ V3    : num  2.536 0.166 1.773 1.793 1.549 ...\n",
      " $ V4    : num  1.378 0.448 0.38 -0.863 0.403 ...\n",
      " $ V5    : num  -0.3383 0.06 -0.5032 -0.0103 -0.4072 ...\n",
      " $ V6    : num  0.4624 -0.0824 1.8005 1.2472 0.0959 ...\n",
      " $ V7    : num  0.2396 -0.0788 0.7915 0.2376 0.5929 ...\n",
      " $ V8    : num  0.0987 0.0851 0.2477 0.3774 -0.2705 ...\n",
      " $ V9    : num  0.364 -0.255 -1.515 -1.387 0.818 ...\n",
      " $ V10   : num  0.0908 -0.167 0.2076 -0.055 0.7531 ...\n",
      " $ V11   : num  -0.552 1.613 0.625 -0.226 -0.823 ...\n",
      " $ V12   : num  -0.6178 1.0652 0.0661 0.1782 0.5382 ...\n",
      " $ V13   : num  -0.991 0.489 0.717 0.508 1.346 ...\n",
      " $ V14   : num  -0.311 -0.144 -0.166 -0.288 -1.12 ...\n",
      " $ V15   : num  1.468 0.636 2.346 -0.631 0.175 ...\n",
      " $ V16   : num  -0.47 0.464 -2.89 -1.06 -0.451 ...\n",
      " $ V17   : num  0.208 -0.115 1.11 -0.684 -0.237 ...\n",
      " $ V18   : num  0.0258 -0.1834 -0.1214 1.9658 -0.0382 ...\n",
      " $ V19   : num  0.404 -0.146 -2.262 -1.233 0.803 ...\n",
      " $ V20   : num  0.2514 -0.0691 0.525 -0.208 0.4085 ...\n",
      " $ V21   : num  -0.01831 -0.22578 0.248 -0.1083 -0.00943 ...\n",
      " $ V22   : num  0.27784 -0.63867 0.77168 0.00527 0.79828 ...\n",
      " $ V23   : num  -0.11 0.101 0.909 -0.19 -0.137 ...\n",
      " $ V24   : num  0.0669 -0.3398 -0.6893 -1.1756 0.1413 ...\n",
      " $ V25   : num  0.129 0.167 -0.328 0.647 -0.206 ...\n",
      " $ V26   : num  -0.189 0.126 -0.139 -0.222 0.502 ...\n",
      " $ V27   : num  0.13356 -0.00898 -0.05535 0.06272 0.21942 ...\n",
      " $ V28   : num  -0.0211 0.0147 -0.0598 0.0615 0.2152 ...\n",
      " $ Amount: num  149.62 2.69 378.66 123.5 69.99 ...\n",
      " $ Class : int  0 0 0 0 0 0 0 0 0 0 ...\n"
     ]
    }
   ],
   "source": [
    "str(data)"
   ]
  },
  {
   "cell_type": "code",
   "execution_count": 22,
   "metadata": {},
   "outputs": [],
   "source": [
    "data$Class <- as.factor(data$Class)"
   ]
  },
  {
   "cell_type": "code",
   "execution_count": 23,
   "metadata": {},
   "outputs": [
    {
     "name": "stdout",
     "output_type": "stream",
     "text": [
      "'data.frame':\t284807 obs. of  31 variables:\n",
      " $ Time  : num  0 0 1 1 2 2 4 7 7 9 ...\n",
      " $ V1    : num  -1.36 1.192 -1.358 -0.966 -1.158 ...\n",
      " $ V2    : num  -0.0728 0.2662 -1.3402 -0.1852 0.8777 ...\n",
      " $ V3    : num  2.536 0.166 1.773 1.793 1.549 ...\n",
      " $ V4    : num  1.378 0.448 0.38 -0.863 0.403 ...\n",
      " $ V5    : num  -0.3383 0.06 -0.5032 -0.0103 -0.4072 ...\n",
      " $ V6    : num  0.4624 -0.0824 1.8005 1.2472 0.0959 ...\n",
      " $ V7    : num  0.2396 -0.0788 0.7915 0.2376 0.5929 ...\n",
      " $ V8    : num  0.0987 0.0851 0.2477 0.3774 -0.2705 ...\n",
      " $ V9    : num  0.364 -0.255 -1.515 -1.387 0.818 ...\n",
      " $ V10   : num  0.0908 -0.167 0.2076 -0.055 0.7531 ...\n",
      " $ V11   : num  -0.552 1.613 0.625 -0.226 -0.823 ...\n",
      " $ V12   : num  -0.6178 1.0652 0.0661 0.1782 0.5382 ...\n",
      " $ V13   : num  -0.991 0.489 0.717 0.508 1.346 ...\n",
      " $ V14   : num  -0.311 -0.144 -0.166 -0.288 -1.12 ...\n",
      " $ V15   : num  1.468 0.636 2.346 -0.631 0.175 ...\n",
      " $ V16   : num  -0.47 0.464 -2.89 -1.06 -0.451 ...\n",
      " $ V17   : num  0.208 -0.115 1.11 -0.684 -0.237 ...\n",
      " $ V18   : num  0.0258 -0.1834 -0.1214 1.9658 -0.0382 ...\n",
      " $ V19   : num  0.404 -0.146 -2.262 -1.233 0.803 ...\n",
      " $ V20   : num  0.2514 -0.0691 0.525 -0.208 0.4085 ...\n",
      " $ V21   : num  -0.01831 -0.22578 0.248 -0.1083 -0.00943 ...\n",
      " $ V22   : num  0.27784 -0.63867 0.77168 0.00527 0.79828 ...\n",
      " $ V23   : num  -0.11 0.101 0.909 -0.19 -0.137 ...\n",
      " $ V24   : num  0.0669 -0.3398 -0.6893 -1.1756 0.1413 ...\n",
      " $ V25   : num  0.129 0.167 -0.328 0.647 -0.206 ...\n",
      " $ V26   : num  -0.189 0.126 -0.139 -0.222 0.502 ...\n",
      " $ V27   : num  0.13356 -0.00898 -0.05535 0.06272 0.21942 ...\n",
      " $ V28   : num  -0.0211 0.0147 -0.0598 0.0615 0.2152 ...\n",
      " $ Amount: num  149.62 2.69 378.66 123.5 69.99 ...\n",
      " $ Class : Factor w/ 2 levels \"0\",\"1\": 1 1 1 1 1 1 1 1 1 1 ...\n"
     ]
    }
   ],
   "source": [
    "str(data)"
   ]
  },
  {
   "cell_type": "code",
   "execution_count": 24,
   "metadata": {},
   "outputs": [],
   "source": [
    "library(caret)"
   ]
  },
  {
   "cell_type": "code",
   "execution_count": 25,
   "metadata": {},
   "outputs": [],
   "source": [
    "data = data[,-1]"
   ]
  },
  {
   "cell_type": "code",
   "execution_count": 26,
   "metadata": {},
   "outputs": [],
   "source": [
    "# data split for training and testing the models\n",
    "set.seed(1234)\n",
    "trainIndex = createDataPartition(data$Class,p=0.5,list=F,times = 1)"
   ]
  },
  {
   "cell_type": "code",
   "execution_count": 27,
   "metadata": {},
   "outputs": [],
   "source": [
    "dataTrain = data[trainIndex,]\n",
    "dataTest = data[-trainIndex,]"
   ]
  },
  {
   "cell_type": "code",
   "execution_count": 28,
   "metadata": {},
   "outputs": [
    {
     "data": {
      "text/html": [
       "<table>\n",
       "<thead><tr><th></th><th scope=col>V1</th><th scope=col>V2</th><th scope=col>V3</th><th scope=col>V4</th><th scope=col>V5</th><th scope=col>V6</th><th scope=col>V7</th><th scope=col>V8</th><th scope=col>V9</th><th scope=col>V10</th><th scope=col>...</th><th scope=col>V21</th><th scope=col>V22</th><th scope=col>V23</th><th scope=col>V24</th><th scope=col>V25</th><th scope=col>V26</th><th scope=col>V27</th><th scope=col>V28</th><th scope=col>Amount</th><th scope=col>Class</th></tr></thead>\n",
       "<tbody>\n",
       "\t<tr><th scope=row>1</th><td>-1.3598071  </td><td>-0.07278117 </td><td> 2.53634674 </td><td> 1.3781552  </td><td>-0.33832077 </td><td> 0.46238778 </td><td> 0.239598554</td><td>0.09869790  </td><td> 0.3637870  </td><td> 0.09079417 </td><td>...         </td><td>-0.018306778</td><td> 0.2778376  </td><td>-0.11047391 </td><td> 0.06692807 </td><td> 0.1285394  </td><td>-0.1891148  </td><td> 0.133558377</td><td>-0.021053053</td><td>149.62      </td><td>0           </td></tr>\n",
       "\t<tr><th scope=row>2</th><td> 1.1918571  </td><td> 0.26615071 </td><td> 0.16648011 </td><td> 0.4481541  </td><td> 0.06001765 </td><td>-0.08236081 </td><td>-0.078802983</td><td>0.08510165  </td><td>-0.2554251  </td><td>-0.16697441 </td><td>...         </td><td>-0.225775248</td><td>-0.6386720  </td><td> 0.10128802 </td><td>-0.33984648 </td><td> 0.1671704  </td><td> 0.1258945  </td><td>-0.008983099</td><td> 0.014724169</td><td>  2.69      </td><td>0           </td></tr>\n",
       "\t<tr><th scope=row>3</th><td>-1.3583541  </td><td>-1.34016307 </td><td> 1.77320934 </td><td> 0.3797796  </td><td>-0.50319813 </td><td> 1.80049938 </td><td> 0.791460956</td><td>0.24767579  </td><td>-1.5146543  </td><td> 0.20764287 </td><td>...         </td><td> 0.247998153</td><td> 0.7716794  </td><td> 0.90941226 </td><td>-0.68928096 </td><td>-0.3276418  </td><td>-0.1390966  </td><td>-0.055352794</td><td>-0.059751841</td><td>378.66      </td><td>0           </td></tr>\n",
       "\t<tr><th scope=row>7</th><td> 1.2296576  </td><td> 0.14100351 </td><td> 0.04537077 </td><td> 1.2026127  </td><td> 0.19188099 </td><td> 0.27270812 </td><td>-0.005159003</td><td>0.08121294  </td><td> 0.4649600  </td><td>-0.09925432 </td><td>...         </td><td>-0.167716266</td><td>-0.2707097  </td><td>-0.15410379 </td><td>-0.78005542 </td><td> 0.7501369  </td><td>-0.2572368  </td><td> 0.034507430</td><td> 0.005167769</td><td>  4.99      </td><td>0           </td></tr>\n",
       "\t<tr><th scope=row>9</th><td>-0.8942861  </td><td> 0.28615720 </td><td>-0.11319221 </td><td>-0.2715261  </td><td> 2.66959866 </td><td> 3.72181806 </td><td> 0.370145128</td><td>0.85108444  </td><td>-0.3920476  </td><td>-0.41043043 </td><td>...         </td><td>-0.073425100</td><td>-0.2680916  </td><td>-0.20423267 </td><td> 1.01159180 </td><td> 0.3732047  </td><td>-0.3841573  </td><td> 0.011747356</td><td> 0.142404330</td><td> 93.20      </td><td>0           </td></tr>\n",
       "\t<tr><th scope=row>11</th><td> 1.4490438  </td><td>-1.17633883 </td><td> 0.91385983 </td><td>-1.3756667  </td><td>-1.97138317 </td><td>-0.62915214 </td><td>-1.423235601</td><td>0.04845589  </td><td>-1.7204084  </td><td> 1.62665906 </td><td>...         </td><td>-0.009301897</td><td> 0.3138944  </td><td> 0.02774016 </td><td> 0.50051229 </td><td> 0.2513674  </td><td>-0.1294780  </td><td> 0.042849871</td><td> 0.016253262</td><td>  7.80      </td><td>0           </td></tr>\n",
       "</tbody>\n",
       "</table>\n"
      ],
      "text/latex": [
       "\\begin{tabular}{r|llllllllllllllllllllllllllllll}\n",
       "  & V1 & V2 & V3 & V4 & V5 & V6 & V7 & V8 & V9 & V10 & ... & V21 & V22 & V23 & V24 & V25 & V26 & V27 & V28 & Amount & Class\\\\\n",
       "\\hline\n",
       "\t1 & -1.3598071   & -0.07278117  &  2.53634674  &  1.3781552   & -0.33832077  &  0.46238778  &  0.239598554 & 0.09869790   &  0.3637870   &  0.09079417  & ...          & -0.018306778 &  0.2778376   & -0.11047391  &  0.06692807  &  0.1285394   & -0.1891148   &  0.133558377 & -0.021053053 & 149.62       & 0           \\\\\n",
       "\t2 &  1.1918571   &  0.26615071  &  0.16648011  &  0.4481541   &  0.06001765  & -0.08236081  & -0.078802983 & 0.08510165   & -0.2554251   & -0.16697441  & ...          & -0.225775248 & -0.6386720   &  0.10128802  & -0.33984648  &  0.1671704   &  0.1258945   & -0.008983099 &  0.014724169 &   2.69       & 0           \\\\\n",
       "\t3 & -1.3583541   & -1.34016307  &  1.77320934  &  0.3797796   & -0.50319813  &  1.80049938  &  0.791460956 & 0.24767579   & -1.5146543   &  0.20764287  & ...          &  0.247998153 &  0.7716794   &  0.90941226  & -0.68928096  & -0.3276418   & -0.1390966   & -0.055352794 & -0.059751841 & 378.66       & 0           \\\\\n",
       "\t7 &  1.2296576   &  0.14100351  &  0.04537077  &  1.2026127   &  0.19188099  &  0.27270812  & -0.005159003 & 0.08121294   &  0.4649600   & -0.09925432  & ...          & -0.167716266 & -0.2707097   & -0.15410379  & -0.78005542  &  0.7501369   & -0.2572368   &  0.034507430 &  0.005167769 &   4.99       & 0           \\\\\n",
       "\t9 & -0.8942861   &  0.28615720  & -0.11319221  & -0.2715261   &  2.66959866  &  3.72181806  &  0.370145128 & 0.85108444   & -0.3920476   & -0.41043043  & ...          & -0.073425100 & -0.2680916   & -0.20423267  &  1.01159180  &  0.3732047   & -0.3841573   &  0.011747356 &  0.142404330 &  93.20       & 0           \\\\\n",
       "\t11 &  1.4490438   & -1.17633883  &  0.91385983  & -1.3756667   & -1.97138317  & -0.62915214  & -1.423235601 & 0.04845589   & -1.7204084   &  1.62665906  & ...          & -0.009301897 &  0.3138944   &  0.02774016  &  0.50051229  &  0.2513674   & -0.1294780   &  0.042849871 &  0.016253262 &   7.80       & 0           \\\\\n",
       "\\end{tabular}\n"
      ],
      "text/markdown": [
       "\n",
       "| <!--/--> | V1 | V2 | V3 | V4 | V5 | V6 | V7 | V8 | V9 | V10 | ... | V21 | V22 | V23 | V24 | V25 | V26 | V27 | V28 | Amount | Class |\n",
       "|---|---|---|---|---|---|---|---|---|---|---|---|---|---|---|---|---|---|---|---|---|---|\n",
       "| 1 | -1.3598071   | -0.07278117  |  2.53634674  |  1.3781552   | -0.33832077  |  0.46238778  |  0.239598554 | 0.09869790   |  0.3637870   |  0.09079417  | ...          | -0.018306778 |  0.2778376   | -0.11047391  |  0.06692807  |  0.1285394   | -0.1891148   |  0.133558377 | -0.021053053 | 149.62       | 0            |\n",
       "| 2 |  1.1918571   |  0.26615071  |  0.16648011  |  0.4481541   |  0.06001765  | -0.08236081  | -0.078802983 | 0.08510165   | -0.2554251   | -0.16697441  | ...          | -0.225775248 | -0.6386720   |  0.10128802  | -0.33984648  |  0.1671704   |  0.1258945   | -0.008983099 |  0.014724169 |   2.69       | 0            |\n",
       "| 3 | -1.3583541   | -1.34016307  |  1.77320934  |  0.3797796   | -0.50319813  |  1.80049938  |  0.791460956 | 0.24767579   | -1.5146543   |  0.20764287  | ...          |  0.247998153 |  0.7716794   |  0.90941226  | -0.68928096  | -0.3276418   | -0.1390966   | -0.055352794 | -0.059751841 | 378.66       | 0            |\n",
       "| 7 |  1.2296576   |  0.14100351  |  0.04537077  |  1.2026127   |  0.19188099  |  0.27270812  | -0.005159003 | 0.08121294   |  0.4649600   | -0.09925432  | ...          | -0.167716266 | -0.2707097   | -0.15410379  | -0.78005542  |  0.7501369   | -0.2572368   |  0.034507430 |  0.005167769 |   4.99       | 0            |\n",
       "| 9 | -0.8942861   |  0.28615720  | -0.11319221  | -0.2715261   |  2.66959866  |  3.72181806  |  0.370145128 | 0.85108444   | -0.3920476   | -0.41043043  | ...          | -0.073425100 | -0.2680916   | -0.20423267  |  1.01159180  |  0.3732047   | -0.3841573   |  0.011747356 |  0.142404330 |  93.20       | 0            |\n",
       "| 11 |  1.4490438   | -1.17633883  |  0.91385983  | -1.3756667   | -1.97138317  | -0.62915214  | -1.423235601 | 0.04845589   | -1.7204084   |  1.62665906  | ...          | -0.009301897 |  0.3138944   |  0.02774016  |  0.50051229  |  0.2513674   | -0.1294780   |  0.042849871 |  0.016253262 |   7.80       | 0            |\n",
       "\n"
      ],
      "text/plain": [
       "   V1         V2          V3          V4         V5          V6         \n",
       "1  -1.3598071 -0.07278117  2.53634674  1.3781552 -0.33832077  0.46238778\n",
       "2   1.1918571  0.26615071  0.16648011  0.4481541  0.06001765 -0.08236081\n",
       "3  -1.3583541 -1.34016307  1.77320934  0.3797796 -0.50319813  1.80049938\n",
       "7   1.2296576  0.14100351  0.04537077  1.2026127  0.19188099  0.27270812\n",
       "9  -0.8942861  0.28615720 -0.11319221 -0.2715261  2.66959866  3.72181806\n",
       "11  1.4490438 -1.17633883  0.91385983 -1.3756667 -1.97138317 -0.62915214\n",
       "   V7           V8         V9         V10         ... V21          V22       \n",
       "1   0.239598554 0.09869790  0.3637870  0.09079417 ... -0.018306778  0.2778376\n",
       "2  -0.078802983 0.08510165 -0.2554251 -0.16697441 ... -0.225775248 -0.6386720\n",
       "3   0.791460956 0.24767579 -1.5146543  0.20764287 ...  0.247998153  0.7716794\n",
       "7  -0.005159003 0.08121294  0.4649600 -0.09925432 ... -0.167716266 -0.2707097\n",
       "9   0.370145128 0.85108444 -0.3920476 -0.41043043 ... -0.073425100 -0.2680916\n",
       "11 -1.423235601 0.04845589 -1.7204084  1.62665906 ... -0.009301897  0.3138944\n",
       "   V23         V24         V25        V26        V27          V28         \n",
       "1  -0.11047391  0.06692807  0.1285394 -0.1891148  0.133558377 -0.021053053\n",
       "2   0.10128802 -0.33984648  0.1671704  0.1258945 -0.008983099  0.014724169\n",
       "3   0.90941226 -0.68928096 -0.3276418 -0.1390966 -0.055352794 -0.059751841\n",
       "7  -0.15410379 -0.78005542  0.7501369 -0.2572368  0.034507430  0.005167769\n",
       "9  -0.20423267  1.01159180  0.3732047 -0.3841573  0.011747356  0.142404330\n",
       "11  0.02774016  0.50051229  0.2513674 -0.1294780  0.042849871  0.016253262\n",
       "   Amount Class\n",
       "1  149.62 0    \n",
       "2    2.69 0    \n",
       "3  378.66 0    \n",
       "7    4.99 0    \n",
       "9   93.20 0    \n",
       "11   7.80 0    "
      ]
     },
     "metadata": {},
     "output_type": "display_data"
    }
   ],
   "source": [
    "head(dataTrain)"
   ]
  },
  {
   "cell_type": "code",
   "execution_count": 29,
   "metadata": {},
   "outputs": [
    {
     "data": {
      "text/html": [
       "<table>\n",
       "<thead><tr><th></th><th scope=col>V1</th><th scope=col>V2</th><th scope=col>V3</th><th scope=col>V4</th><th scope=col>V5</th><th scope=col>V6</th><th scope=col>V7</th><th scope=col>V8</th><th scope=col>V9</th><th scope=col>V10</th><th scope=col>...</th><th scope=col>V21</th><th scope=col>V22</th><th scope=col>V23</th><th scope=col>V24</th><th scope=col>V25</th><th scope=col>V26</th><th scope=col>V27</th><th scope=col>V28</th><th scope=col>Amount</th><th scope=col>Class</th></tr></thead>\n",
       "<tbody>\n",
       "\t<tr><th scope=row>4</th><td>-0.9662717  </td><td>-0.1852260  </td><td>1.7929933   </td><td>-0.8632913  </td><td>-0.01030888 </td><td> 1.24720317 </td><td> 0.2376089  </td><td> 0.37743587 </td><td>-1.3870241  </td><td>-0.05495192 </td><td>...         </td><td>-0.108300452</td><td> 0.005273597</td><td>-0.19032052 </td><td>-1.1755753  </td><td> 0.64737603 </td><td>-0.22192884 </td><td> 0.06272285 </td><td> 0.06145763 </td><td>123.50      </td><td>0           </td></tr>\n",
       "\t<tr><th scope=row>5</th><td>-1.1582331  </td><td> 0.8777368  </td><td>1.5487178   </td><td> 0.4030339  </td><td>-0.40719338 </td><td> 0.09592146 </td><td> 0.5929407  </td><td>-0.27053268 </td><td> 0.8177393  </td><td> 0.75307443 </td><td>...         </td><td>-0.009430697</td><td> 0.798278495</td><td>-0.13745808 </td><td> 0.1412670  </td><td>-0.20600959 </td><td> 0.50229222 </td><td> 0.21942223 </td><td> 0.21515315 </td><td> 69.99      </td><td>0           </td></tr>\n",
       "\t<tr><th scope=row>6</th><td>-0.4259659  </td><td> 0.9605230  </td><td>1.1411093   </td><td>-0.1682521  </td><td> 0.42098688 </td><td>-0.02972755 </td><td> 0.4762009  </td><td> 0.26031433 </td><td>-0.5686714  </td><td>-0.37140720 </td><td>...         </td><td>-0.208253515</td><td>-0.559824796</td><td>-0.02639767 </td><td>-0.3714266  </td><td>-0.23279382 </td><td> 0.10591478 </td><td> 0.25384422 </td><td> 0.08108026 </td><td>  3.67      </td><td>0           </td></tr>\n",
       "\t<tr><th scope=row>8</th><td>-0.6442694  </td><td> 1.4179635  </td><td>1.0743804   </td><td>-0.4921990  </td><td> 0.94893409 </td><td> 0.42811846 </td><td> 1.1206314  </td><td>-3.80786424 </td><td> 0.6153747  </td><td> 1.24937618 </td><td>...         </td><td> 1.943465340</td><td>-1.015454710</td><td> 0.05750353 </td><td>-0.6497090  </td><td>-0.41526657 </td><td>-0.05163430 </td><td>-1.20692108 </td><td>-1.08533919 </td><td> 40.80      </td><td>0           </td></tr>\n",
       "\t<tr><th scope=row>10</th><td>-0.3382618  </td><td> 1.1195934  </td><td>1.0443666   </td><td>-0.2221873  </td><td> 0.49936081 </td><td>-0.24676110 </td><td> 0.6515832  </td><td> 0.06953859 </td><td>-0.7367273  </td><td>-0.36684564 </td><td>...         </td><td>-0.246913937</td><td>-0.633752642</td><td>-0.12079408 </td><td>-0.3850499  </td><td>-0.06973305 </td><td> 0.09419883 </td><td> 0.24621930 </td><td> 0.08307565 </td><td>  3.68      </td><td>0           </td></tr>\n",
       "\t<tr><th scope=row>13</th><td> 1.2499987  </td><td>-1.2216368  </td><td>0.3839302   </td><td>-1.2348987  </td><td>-1.48541947 </td><td>-0.75323016 </td><td>-0.6894050  </td><td>-0.22748723 </td><td>-2.0940106  </td><td> 1.32372927 </td><td>...         </td><td>-0.231809239</td><td>-0.483285330</td><td> 0.08466769 </td><td> 0.3928309  </td><td> 0.16113455 </td><td>-0.35499004 </td><td> 0.02641555 </td><td> 0.04242209 </td><td>121.50      </td><td>0           </td></tr>\n",
       "</tbody>\n",
       "</table>\n"
      ],
      "text/latex": [
       "\\begin{tabular}{r|llllllllllllllllllllllllllllll}\n",
       "  & V1 & V2 & V3 & V4 & V5 & V6 & V7 & V8 & V9 & V10 & ... & V21 & V22 & V23 & V24 & V25 & V26 & V27 & V28 & Amount & Class\\\\\n",
       "\\hline\n",
       "\t4 & -0.9662717   & -0.1852260   & 1.7929933    & -0.8632913   & -0.01030888  &  1.24720317  &  0.2376089   &  0.37743587  & -1.3870241   & -0.05495192  & ...          & -0.108300452 &  0.005273597 & -0.19032052  & -1.1755753   &  0.64737603  & -0.22192884  &  0.06272285  &  0.06145763  & 123.50       & 0           \\\\\n",
       "\t5 & -1.1582331   &  0.8777368   & 1.5487178    &  0.4030339   & -0.40719338  &  0.09592146  &  0.5929407   & -0.27053268  &  0.8177393   &  0.75307443  & ...          & -0.009430697 &  0.798278495 & -0.13745808  &  0.1412670   & -0.20600959  &  0.50229222  &  0.21942223  &  0.21515315  &  69.99       & 0           \\\\\n",
       "\t6 & -0.4259659   &  0.9605230   & 1.1411093    & -0.1682521   &  0.42098688  & -0.02972755  &  0.4762009   &  0.26031433  & -0.5686714   & -0.37140720  & ...          & -0.208253515 & -0.559824796 & -0.02639767  & -0.3714266   & -0.23279382  &  0.10591478  &  0.25384422  &  0.08108026  &   3.67       & 0           \\\\\n",
       "\t8 & -0.6442694   &  1.4179635   & 1.0743804    & -0.4921990   &  0.94893409  &  0.42811846  &  1.1206314   & -3.80786424  &  0.6153747   &  1.24937618  & ...          &  1.943465340 & -1.015454710 &  0.05750353  & -0.6497090   & -0.41526657  & -0.05163430  & -1.20692108  & -1.08533919  &  40.80       & 0           \\\\\n",
       "\t10 & -0.3382618   &  1.1195934   & 1.0443666    & -0.2221873   &  0.49936081  & -0.24676110  &  0.6515832   &  0.06953859  & -0.7367273   & -0.36684564  & ...          & -0.246913937 & -0.633752642 & -0.12079408  & -0.3850499   & -0.06973305  &  0.09419883  &  0.24621930  &  0.08307565  &   3.68       & 0           \\\\\n",
       "\t13 &  1.2499987   & -1.2216368   & 0.3839302    & -1.2348987   & -1.48541947  & -0.75323016  & -0.6894050   & -0.22748723  & -2.0940106   &  1.32372927  & ...          & -0.231809239 & -0.483285330 &  0.08466769  &  0.3928309   &  0.16113455  & -0.35499004  &  0.02641555  &  0.04242209  & 121.50       & 0           \\\\\n",
       "\\end{tabular}\n"
      ],
      "text/markdown": [
       "\n",
       "| <!--/--> | V1 | V2 | V3 | V4 | V5 | V6 | V7 | V8 | V9 | V10 | ... | V21 | V22 | V23 | V24 | V25 | V26 | V27 | V28 | Amount | Class |\n",
       "|---|---|---|---|---|---|---|---|---|---|---|---|---|---|---|---|---|---|---|---|---|---|\n",
       "| 4 | -0.9662717   | -0.1852260   | 1.7929933    | -0.8632913   | -0.01030888  |  1.24720317  |  0.2376089   |  0.37743587  | -1.3870241   | -0.05495192  | ...          | -0.108300452 |  0.005273597 | -0.19032052  | -1.1755753   |  0.64737603  | -0.22192884  |  0.06272285  |  0.06145763  | 123.50       | 0            |\n",
       "| 5 | -1.1582331   |  0.8777368   | 1.5487178    |  0.4030339   | -0.40719338  |  0.09592146  |  0.5929407   | -0.27053268  |  0.8177393   |  0.75307443  | ...          | -0.009430697 |  0.798278495 | -0.13745808  |  0.1412670   | -0.20600959  |  0.50229222  |  0.21942223  |  0.21515315  |  69.99       | 0            |\n",
       "| 6 | -0.4259659   |  0.9605230   | 1.1411093    | -0.1682521   |  0.42098688  | -0.02972755  |  0.4762009   |  0.26031433  | -0.5686714   | -0.37140720  | ...          | -0.208253515 | -0.559824796 | -0.02639767  | -0.3714266   | -0.23279382  |  0.10591478  |  0.25384422  |  0.08108026  |   3.67       | 0            |\n",
       "| 8 | -0.6442694   |  1.4179635   | 1.0743804    | -0.4921990   |  0.94893409  |  0.42811846  |  1.1206314   | -3.80786424  |  0.6153747   |  1.24937618  | ...          |  1.943465340 | -1.015454710 |  0.05750353  | -0.6497090   | -0.41526657  | -0.05163430  | -1.20692108  | -1.08533919  |  40.80       | 0            |\n",
       "| 10 | -0.3382618   |  1.1195934   | 1.0443666    | -0.2221873   |  0.49936081  | -0.24676110  |  0.6515832   |  0.06953859  | -0.7367273   | -0.36684564  | ...          | -0.246913937 | -0.633752642 | -0.12079408  | -0.3850499   | -0.06973305  |  0.09419883  |  0.24621930  |  0.08307565  |   3.68       | 0            |\n",
       "| 13 |  1.2499987   | -1.2216368   | 0.3839302    | -1.2348987   | -1.48541947  | -0.75323016  | -0.6894050   | -0.22748723  | -2.0940106   |  1.32372927  | ...          | -0.231809239 | -0.483285330 |  0.08466769  |  0.3928309   |  0.16113455  | -0.35499004  |  0.02641555  |  0.04242209  | 121.50       | 0            |\n",
       "\n"
      ],
      "text/plain": [
       "   V1         V2         V3        V4         V5          V6         \n",
       "4  -0.9662717 -0.1852260 1.7929933 -0.8632913 -0.01030888  1.24720317\n",
       "5  -1.1582331  0.8777368 1.5487178  0.4030339 -0.40719338  0.09592146\n",
       "6  -0.4259659  0.9605230 1.1411093 -0.1682521  0.42098688 -0.02972755\n",
       "8  -0.6442694  1.4179635 1.0743804 -0.4921990  0.94893409  0.42811846\n",
       "10 -0.3382618  1.1195934 1.0443666 -0.2221873  0.49936081 -0.24676110\n",
       "13  1.2499987 -1.2216368 0.3839302 -1.2348987 -1.48541947 -0.75323016\n",
       "   V7         V8          V9         V10         ... V21          V22         \n",
       "4   0.2376089  0.37743587 -1.3870241 -0.05495192 ... -0.108300452  0.005273597\n",
       "5   0.5929407 -0.27053268  0.8177393  0.75307443 ... -0.009430697  0.798278495\n",
       "6   0.4762009  0.26031433 -0.5686714 -0.37140720 ... -0.208253515 -0.559824796\n",
       "8   1.1206314 -3.80786424  0.6153747  1.24937618 ...  1.943465340 -1.015454710\n",
       "10  0.6515832  0.06953859 -0.7367273 -0.36684564 ... -0.246913937 -0.633752642\n",
       "13 -0.6894050 -0.22748723 -2.0940106  1.32372927 ... -0.231809239 -0.483285330\n",
       "   V23         V24        V25         V26         V27         V28        \n",
       "4  -0.19032052 -1.1755753  0.64737603 -0.22192884  0.06272285  0.06145763\n",
       "5  -0.13745808  0.1412670 -0.20600959  0.50229222  0.21942223  0.21515315\n",
       "6  -0.02639767 -0.3714266 -0.23279382  0.10591478  0.25384422  0.08108026\n",
       "8   0.05750353 -0.6497090 -0.41526657 -0.05163430 -1.20692108 -1.08533919\n",
       "10 -0.12079408 -0.3850499 -0.06973305  0.09419883  0.24621930  0.08307565\n",
       "13  0.08466769  0.3928309  0.16113455 -0.35499004  0.02641555  0.04242209\n",
       "   Amount Class\n",
       "4  123.50 0    \n",
       "5   69.99 0    \n",
       "6    3.67 0    \n",
       "8   40.80 0    \n",
       "10   3.68 0    \n",
       "13 121.50 0    "
      ]
     },
     "metadata": {},
     "output_type": "display_data"
    }
   ],
   "source": [
    "head(dataTest)"
   ]
  },
  {
   "cell_type": "code",
   "execution_count": 30,
   "metadata": {},
   "outputs": [
    {
     "data": {
      "text/html": [
       "<ol class=list-inline>\n",
       "\t<li>142404</li>\n",
       "\t<li>30</li>\n",
       "</ol>\n"
      ],
      "text/latex": [
       "\\begin{enumerate*}\n",
       "\\item 142404\n",
       "\\item 30\n",
       "\\end{enumerate*}\n"
      ],
      "text/markdown": [
       "1. 142404\n",
       "2. 30\n",
       "\n",
       "\n"
      ],
      "text/plain": [
       "[1] 142404     30"
      ]
     },
     "metadata": {},
     "output_type": "display_data"
    },
    {
     "data": {
      "text/html": [
       "<ol class=list-inline>\n",
       "\t<li>142403</li>\n",
       "\t<li>30</li>\n",
       "</ol>\n"
      ],
      "text/latex": [
       "\\begin{enumerate*}\n",
       "\\item 142403\n",
       "\\item 30\n",
       "\\end{enumerate*}\n"
      ],
      "text/markdown": [
       "1. 142403\n",
       "2. 30\n",
       "\n",
       "\n"
      ],
      "text/plain": [
       "[1] 142403     30"
      ]
     },
     "metadata": {},
     "output_type": "display_data"
    }
   ],
   "source": [
    "dim(dataTrain);dim(dataTest)"
   ]
  },
  {
   "cell_type": "code",
   "execution_count": 31,
   "metadata": {},
   "outputs": [
    {
     "data": {
      "text/plain": [
       "\n",
       "     0      1 \n",
       "284315    492 "
      ]
     },
     "metadata": {},
     "output_type": "display_data"
    },
    {
     "data": {
      "text/plain": [
       "\n",
       "     0      1 \n",
       "142158    246 "
      ]
     },
     "metadata": {},
     "output_type": "display_data"
    },
    {
     "data": {
      "text/plain": [
       "\n",
       "     0      1 \n",
       "142157    246 "
      ]
     },
     "metadata": {},
     "output_type": "display_data"
    }
   ],
   "source": [
    "table(data$Class);table(dataTrain$Class);table(dataTest$Class)"
   ]
  },
  {
   "cell_type": "code",
   "execution_count": 32,
   "metadata": {},
   "outputs": [],
   "source": [
    "# cross validation set up\n",
    "control <- trainControl(method = 'repeatedcv',number=3,repeats = 3)"
   ]
  },
  {
   "cell_type": "code",
   "execution_count": 33,
   "metadata": {},
   "outputs": [],
   "source": [
    "# setting up accuracy\n",
    "metric <-\"Accuracy\""
   ]
  },
  {
   "cell_type": "code",
   "execution_count": 34,
   "metadata": {},
   "outputs": [],
   "source": [
    "# select the pre-processing method\n",
    "preProcess <- c(\"center\",'scale')"
   ]
  },
  {
   "cell_type": "code",
   "execution_count": 36,
   "metadata": {},
   "outputs": [
    {
     "name": "stderr",
     "output_type": "stream",
     "text": [
      "also installing the dependencies 'mlbench', 'SparseM', 'slam'\n",
      "\n"
     ]
    },
    {
     "name": "stdout",
     "output_type": "stream",
     "text": [
      "package 'mlbench' successfully unpacked and MD5 sums checked\n",
      "package 'SparseM' successfully unpacked and MD5 sums checked\n",
      "package 'slam' successfully unpacked and MD5 sums checked\n",
      "package 'e1071' successfully unpacked and MD5 sums checked\n",
      "\n",
      "The downloaded binary packages are in\n",
      "\tC:\\Users\\Vsh\\AppData\\Local\\Temp\\RtmpqUxUFn\\downloaded_packages\n"
     ]
    }
   ],
   "source": [
    "install.packages('e1071', dependencies=TRUE)"
   ]
  },
  {
   "cell_type": "code",
   "execution_count": 37,
   "metadata": {},
   "outputs": [],
   "source": [
    "# linear discriminant analysis\n",
    "set.seed(1234)\n",
    "library(MASS)\n",
    "fit.lda <- train(Class~.,data=dataTrain,method = 'lda',metric = metric,preprocess = preProcess,trControl = control)"
   ]
  },
  {
   "cell_type": "code",
   "execution_count": 38,
   "metadata": {},
   "outputs": [
    {
     "data": {
      "text/plain": [
       "Linear Discriminant Analysis \n",
       "\n",
       "142404 samples\n",
       "    29 predictor\n",
       "     2 classes: '0', '1' \n",
       "\n",
       "No pre-processing\n",
       "Resampling: Cross-Validated (3 fold, repeated 3 times) \n",
       "Summary of sample sizes: 94936, 94936, 94936, 94936, 94936, 94936, ... \n",
       "Resampling results:\n",
       "\n",
       "  Accuracy   Kappa    \n",
       "  0.9993001  0.7803988\n"
      ]
     },
     "metadata": {},
     "output_type": "display_data"
    }
   ],
   "source": [
    "fit.lda"
   ]
  },
  {
   "cell_type": "code",
   "execution_count": null,
   "metadata": {},
   "outputs": [],
   "source": []
  },
  {
   "cell_type": "code",
   "execution_count": null,
   "metadata": {},
   "outputs": [],
   "source": []
  },
  {
   "cell_type": "code",
   "execution_count": null,
   "metadata": {},
   "outputs": [],
   "source": []
  },
  {
   "cell_type": "code",
   "execution_count": null,
   "metadata": {},
   "outputs": [],
   "source": []
  },
  {
   "cell_type": "code",
   "execution_count": null,
   "metadata": {},
   "outputs": [],
   "source": []
  },
  {
   "cell_type": "code",
   "execution_count": null,
   "metadata": {},
   "outputs": [],
   "source": []
  },
  {
   "cell_type": "code",
   "execution_count": null,
   "metadata": {},
   "outputs": [],
   "source": []
  },
  {
   "cell_type": "code",
   "execution_count": null,
   "metadata": {},
   "outputs": [],
   "source": []
  }
 ],
 "metadata": {
  "kernelspec": {
   "display_name": "R",
   "language": "R",
   "name": "ir"
  },
  "language_info": {
   "codemirror_mode": "r",
   "file_extension": ".r",
   "mimetype": "text/x-r-source",
   "name": "R",
   "pygments_lexer": "r",
   "version": "3.6.1"
  }
 },
 "nbformat": 4,
 "nbformat_minor": 4
}
