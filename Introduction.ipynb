{
 "cells": [
  {
   "cell_type": "code",
   "execution_count": null,
   "metadata": {},
   "outputs": [],
   "source": [
    "data = read.csv(\"C:/Users/Vsh/Documents/GitHub/Credit-Card-Fraud-Detection/creditcard.csv\")"
   ]
  },
  {
   "cell_type": "code",
   "execution_count": null,
   "metadata": {},
   "outputs": [],
   "source": [
    "head(data)"
   ]
  },
  {
   "cell_type": "code",
   "execution_count": null,
   "metadata": {},
   "outputs": [],
   "source": [
    "names(data)"
   ]
  },
  {
   "cell_type": "code",
   "execution_count": null,
   "metadata": {},
   "outputs": [],
   "source": [
    "table(max(data$Amount),min(data$Amount))"
   ]
  },
  {
   "cell_type": "code",
   "execution_count": null,
   "metadata": {},
   "outputs": [],
   "source": [
    "# V1-V28 these are principal components\n",
    "# Time- since it is a transactional data set, will have more than 1 line for a specific time period\n",
    "# Amount- amount involved in the transaction\n",
    "# Class- target variable"
   ]
  },
  {
   "cell_type": "code",
   "execution_count": null,
   "metadata": {},
   "outputs": [],
   "source": [
    "# Exploratory data analysis\n",
    "# Univariate: distributions\n",
    "# Bi-variate: correlations\n",
    "# Multivariate: correlations"
   ]
  },
  {
   "cell_type": "code",
   "execution_count": null,
   "metadata": {},
   "outputs": [],
   "source": [
    "#table(data$Time,data$Class)"
   ]
  },
  {
   "cell_type": "code",
   "execution_count": null,
   "metadata": {},
   "outputs": [],
   "source": [
    "library(caret)"
   ]
  },
  {
   "cell_type": "code",
   "execution_count": null,
   "metadata": {},
   "outputs": [],
   "source": [
    "head(mtcars)"
   ]
  },
  {
   "cell_type": "code",
   "execution_count": null,
   "metadata": {},
   "outputs": [],
   "source": [
    "# pairwise plots of all the attributes by class\n",
    "featurePlot(x=mtcars[,1:9],y=mtcars[,10],plot = 'pairs')"
   ]
  },
  {
   "cell_type": "code",
   "execution_count": null,
   "metadata": {},
   "outputs": [],
   "source": [
    "featurePlot(x=mtcars[,1:10],y=mtcars[,11],plot = 'pairs')"
   ]
  },
  {
   "cell_type": "code",
   "execution_count": null,
   "metadata": {},
   "outputs": [],
   "source": [
    "# density plots for each attribute by the class\n",
    "featurePlot(x=data[,2:29],y=data[,31],plot = 'density')"
   ]
  },
  {
   "cell_type": "code",
   "execution_count": null,
   "metadata": {},
   "outputs": [],
   "source": [
    "library(corrplot)"
   ]
  },
  {
   "cell_type": "code",
   "execution_count": null,
   "metadata": {},
   "outputs": [],
   "source": [
    "corrplot(cor(data[,2:29]),method = 'number')"
   ]
  },
  {
   "cell_type": "code",
   "execution_count": null,
   "metadata": {},
   "outputs": [],
   "source": [
    "table(data$Class)"
   ]
  },
  {
   "cell_type": "code",
   "execution_count": null,
   "metadata": {},
   "outputs": [],
   "source": [
    "# Immbalanced data management\n",
    "\n",
    "#1- oversampling\n",
    "#2- undersampling\n",
    "#3- Mixed sampling\n"
   ]
  },
  {
   "cell_type": "code",
   "execution_count": null,
   "metadata": {},
   "outputs": [],
   "source": [
    "library(unbalanced)\n",
    "library(ROSE)"
   ]
  },
  {
   "cell_type": "code",
   "execution_count": null,
   "metadata": {},
   "outputs": [],
   "source": [
    "install.packages('e1071')"
   ]
  },
  {
   "cell_type": "code",
   "execution_count": null,
   "metadata": {},
   "outputs": [],
   "source": [
    "# feature selction methodology\n",
    "\n",
    "# to remove the features which are redundant (corr > 0.75)\n",
    "# rank the features by their importance (Learning Vector Quantization (LVQ) model)\n",
    "# select features using Recursive feature elimination (RFE) method"
   ]
  },
  {
   "cell_type": "code",
   "execution_count": null,
   "metadata": {},
   "outputs": [],
   "source": [
    "str(data)"
   ]
  },
  {
   "cell_type": "code",
   "execution_count": null,
   "metadata": {},
   "outputs": [],
   "source": [
    "data$Class <- as.factor(data$Class)"
   ]
  },
  {
   "cell_type": "code",
   "execution_count": null,
   "metadata": {},
   "outputs": [],
   "source": [
    "str(data)"
   ]
  },
  {
   "cell_type": "code",
   "execution_count": null,
   "metadata": {},
   "outputs": [],
   "source": [
    "library(caret)"
   ]
  },
  {
   "cell_type": "code",
   "execution_count": null,
   "metadata": {},
   "outputs": [],
   "source": [
    "data = data[,-1]"
   ]
  },
  {
   "cell_type": "code",
   "execution_count": null,
   "metadata": {},
   "outputs": [],
   "source": [
    "# data split for training and testing the models\n",
    "set.seed(1234)\n",
    "trainIndex = createDataPartition(data$Class,p=0.5,list=F,times = 1)"
   ]
  },
  {
   "cell_type": "code",
   "execution_count": null,
   "metadata": {},
   "outputs": [],
   "source": [
    "dataTrain = data[trainIndex,]\n",
    "dataTest = data[-trainIndex,]"
   ]
  },
  {
   "cell_type": "code",
   "execution_count": null,
   "metadata": {},
   "outputs": [],
   "source": [
    "head(dataTrain)"
   ]
  },
  {
   "cell_type": "code",
   "execution_count": null,
   "metadata": {},
   "outputs": [],
   "source": [
    "head(dataTest)"
   ]
  },
  {
   "cell_type": "code",
   "execution_count": null,
   "metadata": {},
   "outputs": [],
   "source": [
    "dim(dataTrain);dim(dataTest)"
   ]
  },
  {
   "cell_type": "code",
   "execution_count": null,
   "metadata": {},
   "outputs": [],
   "source": [
    "table(data$Class);table(dataTrain$Class);table(dataTest$Class)"
   ]
  },
  {
   "cell_type": "code",
   "execution_count": null,
   "metadata": {},
   "outputs": [],
   "source": [
    "# cross validation set up\n",
    "control <- trainControl(method = 'repeatedcv',number=3,repeats = 3)"
   ]
  },
  {
   "cell_type": "code",
   "execution_count": null,
   "metadata": {},
   "outputs": [],
   "source": [
    "# setting up accuracy\n",
    "metric <-\"Accuracy\""
   ]
  },
  {
   "cell_type": "code",
   "execution_count": null,
   "metadata": {},
   "outputs": [],
   "source": [
    "# select the pre-processing method\n",
    "preProcess <- c(\"center\",'scale')"
   ]
  },
  {
   "cell_type": "code",
   "execution_count": null,
   "metadata": {},
   "outputs": [],
   "source": [
    "#install.packages('e1071', dependencies=TRUE)"
   ]
  },
  {
   "cell_type": "code",
   "execution_count": null,
   "metadata": {},
   "outputs": [],
   "source": [
    "# linear discriminant analysis\n",
    "set.seed(1234)\n",
    "library(MASS)\n",
    "fit.lda <- train(Class~.,data=dataTrain,method = 'lda',metric = metric,preprocess = preProcess,trControl = control)"
   ]
  },
  {
   "cell_type": "code",
   "execution_count": null,
   "metadata": {},
   "outputs": [],
   "source": [
    "fit.lda"
   ]
  },
  {
   "cell_type": "code",
   "execution_count": null,
   "metadata": {},
   "outputs": [],
   "source": [
    "fit.lda$results"
   ]
  },
  {
   "cell_type": "code",
   "execution_count": null,
   "metadata": {},
   "outputs": [],
   "source": [
    "# Logistic regression analysis\n",
    "set.seed(1234)\n",
    "library(MASS)\n",
    "fit.glm <- train(Class~.,data=dataTrain,method = 'glm',metric = metric,trControl = control)"
   ]
  },
  {
   "cell_type": "code",
   "execution_count": null,
   "metadata": {},
   "outputs": [],
   "source": [
    "fit.glm"
   ]
  },
  {
   "cell_type": "code",
   "execution_count": 4,
   "metadata": {},
   "outputs": [
    {
     "name": "stderr",
     "output_type": "stream",
     "text": [
      "Loading required package: Matrix\n",
      "Loading required package: foreach\n",
      "Loaded glmnet 2.0-16\n",
      "\n"
     ]
    },
    {
     "ename": "ERROR",
     "evalue": "Error in train(Class ~ ., data = dataTrain, method = \"glmnet\", metric = metric, : could not find function \"train\"\n",
     "output_type": "error",
     "traceback": [
      "Error in train(Class ~ ., data = dataTrain, method = \"glmnet\", metric = metric, : could not find function \"train\"\nTraceback:\n"
     ]
    }
   ],
   "source": [
    "# GLMNet regression analysis\n",
    "set.seed(1234)\n",
    "library(glmnet)\n",
    "fit.glmnet <- train(Class~.,data=dataTrain,method = 'glmnet',metric = metric,trControl = control)"
   ]
  },
  {
   "cell_type": "code",
   "execution_count": 1,
   "metadata": {},
   "outputs": [
    {
     "name": "stdout",
     "output_type": "stream",
     "text": [
      "package 'e1071' successfully unpacked and MD5 sums checked\n"
     ]
    },
    {
     "name": "stderr",
     "output_type": "stream",
     "text": [
      "Warning message:\n",
      "\"cannot remove prior installation of package 'e1071'\"Warning message in file.copy(savedcopy, lib, recursive = TRUE):\n",
      "\"problem copying C:\\Users\\Vsh\\.conda\\envs\\DS\\Lib\\R\\library\\00LOCK\\e1071\\libs\\x64\\e1071.dll to C:\\Users\\Vsh\\.conda\\envs\\DS\\Lib\\R\\library\\e1071\\libs\\x64\\e1071.dll: Permission denied\"Warning message:\n",
      "\"restored 'e1071'\""
     ]
    },
    {
     "name": "stdout",
     "output_type": "stream",
     "text": [
      "\n",
      "The downloaded binary packages are in\n",
      "\tC:\\Users\\Vsh\\AppData\\Local\\Temp\\RtmpgzevV7\\downloaded_packages\n"
     ]
    }
   ],
   "source": [
    "install.packages('e1071')"
   ]
  },
  {
   "cell_type": "code",
   "execution_count": 3,
   "metadata": {},
   "outputs": [
    {
     "ename": "ERROR",
     "evalue": "Error in train(Class ~ ., data = dataTrain, method = \"svmRadial\", metric = metric, : could not find function \"train\"\n",
     "output_type": "error",
     "traceback": [
      "Error in train(Class ~ ., data = dataTrain, method = \"svmRadial\", metric = metric, : could not find function \"train\"\nTraceback:\n"
     ]
    }
   ],
   "source": [
    "# SVM \n",
    "library(kernlab)\n",
    "set.seed(1234)\n",
    "fit.svm <- train(Class~.,data=dataTrain,method = 'svmRadial',metric = metric,\n",
    "                 preprocess = preProcess,trControl = control,fit=F)"
   ]
  },
  {
   "cell_type": "code",
   "execution_count": 2,
   "metadata": {},
   "outputs": [
    {
     "ename": "ERROR",
     "evalue": "Error in train(Class ~ ., data = dataTrain, method = \"knn\", metric = metric, : could not find function \"train\"\n",
     "output_type": "error",
     "traceback": [
      "Error in train(Class ~ ., data = dataTrain, method = \"knn\", metric = metric, : could not find function \"train\"\nTraceback:\n"
     ]
    }
   ],
   "source": [
    "#KNN for classification\n",
    "set.seed(1234)\n",
    "fit.knn <- train(Class~.,data=dataTrain,method = 'knn',metric = metric,\n",
    "                 preprocess = preProcess,trControl = control)"
   ]
  },
  {
   "cell_type": "code",
   "execution_count": null,
   "metadata": {},
   "outputs": [],
   "source": [
    "# Naive Bayes\n",
    "set.seed(1234)\n",
    "library(klaR)\n",
    "fit.nb<-train(Class~.,data=dataTrain,method = 'nb',metric = metric,trControl = control)\n"
   ]
  },
  {
   "cell_type": "code",
   "execution_count": null,
   "metadata": {},
   "outputs": [],
   "source": [
    "# CART\n",
    "set.seed(1234)\n",
    "library(rpart)\n",
    "fit.cart<-train(Class~.,data=dataTrain,method = 'rpart',metric = metric,trControl = control)"
   ]
  },
  {
   "cell_type": "code",
   "execution_count": null,
   "metadata": {},
   "outputs": [],
   "source": [
    "install.packages('C50', dependencies=TRUE)"
   ]
  },
  {
   "cell_type": "code",
   "execution_count": null,
   "metadata": {},
   "outputs": [],
   "source": [
    "# Tree based model C5.0\n",
    "set.seed(1234)\n",
    "library(C50)\n",
    "fit.c50<-train(Class~.,data=dataTrain,method = 'C5.0',metric = metric,trControl = control)"
   ]
  },
  {
   "cell_type": "code",
   "execution_count": null,
   "metadata": {},
   "outputs": [],
   "source": [
    "# Bagging CART\n",
    "set.seed(1234)\n",
    "library(ipred)\n",
    "fit.treebag <-train(Class~.,data=dataTrain,method = 'treebag',metric = metric,trControl = control)"
   ]
  },
  {
   "cell_type": "code",
   "execution_count": null,
   "metadata": {},
   "outputs": [],
   "source": []
  },
  {
   "cell_type": "code",
   "execution_count": null,
   "metadata": {},
   "outputs": [],
   "source": []
  },
  {
   "cell_type": "code",
   "execution_count": null,
   "metadata": {},
   "outputs": [],
   "source": []
  },
  {
   "cell_type": "code",
   "execution_count": null,
   "metadata": {},
   "outputs": [],
   "source": []
  },
  {
   "cell_type": "code",
   "execution_count": null,
   "metadata": {},
   "outputs": [],
   "source": []
  },
  {
   "cell_type": "code",
   "execution_count": null,
   "metadata": {},
   "outputs": [],
   "source": []
  },
  {
   "cell_type": "code",
   "execution_count": null,
   "metadata": {},
   "outputs": [],
   "source": []
  },
  {
   "cell_type": "code",
   "execution_count": null,
   "metadata": {},
   "outputs": [],
   "source": []
  },
  {
   "cell_type": "code",
   "execution_count": null,
   "metadata": {},
   "outputs": [],
   "source": []
  },
  {
   "cell_type": "code",
   "execution_count": null,
   "metadata": {},
   "outputs": [],
   "source": []
  },
  {
   "cell_type": "code",
   "execution_count": null,
   "metadata": {},
   "outputs": [],
   "source": []
  }
 ],
 "metadata": {
  "kernelspec": {
   "display_name": "R",
   "language": "R",
   "name": "ir"
  },
  "language_info": {
   "codemirror_mode": "r",
   "file_extension": ".r",
   "mimetype": "text/x-r-source",
   "name": "R",
   "pygments_lexer": "r",
   "version": "3.6.1"
  }
 },
 "nbformat": 4,
 "nbformat_minor": 4
}
