{
 "cells": [
  {
   "cell_type": "code",
   "execution_count": 2,
   "metadata": {},
   "outputs": [],
   "source": [
    "data = read.csv(\"C:/Users/Vsh/Documents/GitHub/Credit-Card-Fraud-Detection/creditcard.csv\")"
   ]
  },
  {
   "cell_type": "code",
   "execution_count": 3,
   "metadata": {},
   "outputs": [
    {
     "data": {
      "text/html": [
       "<table>\n",
       "<thead><tr><th scope=col>Time</th><th scope=col>V1</th><th scope=col>V2</th><th scope=col>V3</th><th scope=col>V4</th><th scope=col>V5</th><th scope=col>V6</th><th scope=col>V7</th><th scope=col>V8</th><th scope=col>V9</th><th scope=col>...</th><th scope=col>V21</th><th scope=col>V22</th><th scope=col>V23</th><th scope=col>V24</th><th scope=col>V25</th><th scope=col>V26</th><th scope=col>V27</th><th scope=col>V28</th><th scope=col>Amount</th><th scope=col>Class</th></tr></thead>\n",
       "<tbody>\n",
       "\t<tr><td>0           </td><td>-1.3598071  </td><td>-0.07278117 </td><td>2.5363467   </td><td> 1.3781552  </td><td>-0.33832077 </td><td> 0.46238778 </td><td> 0.23959855 </td><td> 0.09869790 </td><td> 0.3637870  </td><td>...         </td><td>-0.018306778</td><td> 0.277837576</td><td>-0.11047391 </td><td> 0.06692807 </td><td> 0.1285394  </td><td>-0.1891148  </td><td> 0.133558377</td><td>-0.02105305 </td><td>149.62      </td><td>0           </td></tr>\n",
       "\t<tr><td>0           </td><td> 1.1918571  </td><td> 0.26615071 </td><td>0.1664801   </td><td> 0.4481541  </td><td> 0.06001765 </td><td>-0.08236081 </td><td>-0.07880298 </td><td> 0.08510165 </td><td>-0.2554251  </td><td>...         </td><td>-0.225775248</td><td>-0.638671953</td><td> 0.10128802 </td><td>-0.33984648 </td><td> 0.1671704  </td><td> 0.1258945  </td><td>-0.008983099</td><td> 0.01472417 </td><td>  2.69      </td><td>0           </td></tr>\n",
       "\t<tr><td>1           </td><td>-1.3583541  </td><td>-1.34016307 </td><td>1.7732093   </td><td> 0.3797796  </td><td>-0.50319813 </td><td> 1.80049938 </td><td> 0.79146096 </td><td> 0.24767579 </td><td>-1.5146543  </td><td>...         </td><td> 0.247998153</td><td> 0.771679402</td><td> 0.90941226 </td><td>-0.68928096 </td><td>-0.3276418  </td><td>-0.1390966  </td><td>-0.055352794</td><td>-0.05975184 </td><td>378.66      </td><td>0           </td></tr>\n",
       "\t<tr><td>1           </td><td>-0.9662717  </td><td>-0.18522601 </td><td>1.7929933   </td><td>-0.8632913  </td><td>-0.01030888 </td><td> 1.24720317 </td><td> 0.23760894 </td><td> 0.37743587 </td><td>-1.3870241  </td><td>...         </td><td>-0.108300452</td><td> 0.005273597</td><td>-0.19032052 </td><td>-1.17557533 </td><td> 0.6473760  </td><td>-0.2219288  </td><td> 0.062722849</td><td> 0.06145763 </td><td>123.50      </td><td>0           </td></tr>\n",
       "\t<tr><td>2           </td><td>-1.1582331  </td><td> 0.87773675 </td><td>1.5487178   </td><td> 0.4030339  </td><td>-0.40719338 </td><td> 0.09592146 </td><td> 0.59294075 </td><td>-0.27053268 </td><td> 0.8177393  </td><td>...         </td><td>-0.009430697</td><td> 0.798278495</td><td>-0.13745808 </td><td> 0.14126698 </td><td>-0.2060096  </td><td> 0.5022922  </td><td> 0.219422230</td><td> 0.21515315 </td><td> 69.99      </td><td>0           </td></tr>\n",
       "\t<tr><td>2           </td><td>-0.4259659  </td><td> 0.96052304 </td><td>1.1411093   </td><td>-0.1682521  </td><td> 0.42098688 </td><td>-0.02972755 </td><td> 0.47620095 </td><td> 0.26031433 </td><td>-0.5686714  </td><td>...         </td><td>-0.208253515</td><td>-0.559824796</td><td>-0.02639767 </td><td>-0.37142658 </td><td>-0.2327938  </td><td> 0.1059148  </td><td> 0.253844225</td><td> 0.08108026 </td><td>  3.67      </td><td>0           </td></tr>\n",
       "</tbody>\n",
       "</table>\n"
      ],
      "text/latex": [
       "\\begin{tabular}{r|lllllllllllllllllllllllllllllll}\n",
       " Time & V1 & V2 & V3 & V4 & V5 & V6 & V7 & V8 & V9 & ... & V21 & V22 & V23 & V24 & V25 & V26 & V27 & V28 & Amount & Class\\\\\n",
       "\\hline\n",
       "\t 0            & -1.3598071   & -0.07278117  & 2.5363467    &  1.3781552   & -0.33832077  &  0.46238778  &  0.23959855  &  0.09869790  &  0.3637870   & ...          & -0.018306778 &  0.277837576 & -0.11047391  &  0.06692807  &  0.1285394   & -0.1891148   &  0.133558377 & -0.02105305  & 149.62       & 0           \\\\\n",
       "\t 0            &  1.1918571   &  0.26615071  & 0.1664801    &  0.4481541   &  0.06001765  & -0.08236081  & -0.07880298  &  0.08510165  & -0.2554251   & ...          & -0.225775248 & -0.638671953 &  0.10128802  & -0.33984648  &  0.1671704   &  0.1258945   & -0.008983099 &  0.01472417  &   2.69       & 0           \\\\\n",
       "\t 1            & -1.3583541   & -1.34016307  & 1.7732093    &  0.3797796   & -0.50319813  &  1.80049938  &  0.79146096  &  0.24767579  & -1.5146543   & ...          &  0.247998153 &  0.771679402 &  0.90941226  & -0.68928096  & -0.3276418   & -0.1390966   & -0.055352794 & -0.05975184  & 378.66       & 0           \\\\\n",
       "\t 1            & -0.9662717   & -0.18522601  & 1.7929933    & -0.8632913   & -0.01030888  &  1.24720317  &  0.23760894  &  0.37743587  & -1.3870241   & ...          & -0.108300452 &  0.005273597 & -0.19032052  & -1.17557533  &  0.6473760   & -0.2219288   &  0.062722849 &  0.06145763  & 123.50       & 0           \\\\\n",
       "\t 2            & -1.1582331   &  0.87773675  & 1.5487178    &  0.4030339   & -0.40719338  &  0.09592146  &  0.59294075  & -0.27053268  &  0.8177393   & ...          & -0.009430697 &  0.798278495 & -0.13745808  &  0.14126698  & -0.2060096   &  0.5022922   &  0.219422230 &  0.21515315  &  69.99       & 0           \\\\\n",
       "\t 2            & -0.4259659   &  0.96052304  & 1.1411093    & -0.1682521   &  0.42098688  & -0.02972755  &  0.47620095  &  0.26031433  & -0.5686714   & ...          & -0.208253515 & -0.559824796 & -0.02639767  & -0.37142658  & -0.2327938   &  0.1059148   &  0.253844225 &  0.08108026  &   3.67       & 0           \\\\\n",
       "\\end{tabular}\n"
      ],
      "text/markdown": [
       "\n",
       "| Time | V1 | V2 | V3 | V4 | V5 | V6 | V7 | V8 | V9 | ... | V21 | V22 | V23 | V24 | V25 | V26 | V27 | V28 | Amount | Class |\n",
       "|---|---|---|---|---|---|---|---|---|---|---|---|---|---|---|---|---|---|---|---|---|\n",
       "| 0            | -1.3598071   | -0.07278117  | 2.5363467    |  1.3781552   | -0.33832077  |  0.46238778  |  0.23959855  |  0.09869790  |  0.3637870   | ...          | -0.018306778 |  0.277837576 | -0.11047391  |  0.06692807  |  0.1285394   | -0.1891148   |  0.133558377 | -0.02105305  | 149.62       | 0            |\n",
       "| 0            |  1.1918571   |  0.26615071  | 0.1664801    |  0.4481541   |  0.06001765  | -0.08236081  | -0.07880298  |  0.08510165  | -0.2554251   | ...          | -0.225775248 | -0.638671953 |  0.10128802  | -0.33984648  |  0.1671704   |  0.1258945   | -0.008983099 |  0.01472417  |   2.69       | 0            |\n",
       "| 1            | -1.3583541   | -1.34016307  | 1.7732093    |  0.3797796   | -0.50319813  |  1.80049938  |  0.79146096  |  0.24767579  | -1.5146543   | ...          |  0.247998153 |  0.771679402 |  0.90941226  | -0.68928096  | -0.3276418   | -0.1390966   | -0.055352794 | -0.05975184  | 378.66       | 0            |\n",
       "| 1            | -0.9662717   | -0.18522601  | 1.7929933    | -0.8632913   | -0.01030888  |  1.24720317  |  0.23760894  |  0.37743587  | -1.3870241   | ...          | -0.108300452 |  0.005273597 | -0.19032052  | -1.17557533  |  0.6473760   | -0.2219288   |  0.062722849 |  0.06145763  | 123.50       | 0            |\n",
       "| 2            | -1.1582331   |  0.87773675  | 1.5487178    |  0.4030339   | -0.40719338  |  0.09592146  |  0.59294075  | -0.27053268  |  0.8177393   | ...          | -0.009430697 |  0.798278495 | -0.13745808  |  0.14126698  | -0.2060096   |  0.5022922   |  0.219422230 |  0.21515315  |  69.99       | 0            |\n",
       "| 2            | -0.4259659   |  0.96052304  | 1.1411093    | -0.1682521   |  0.42098688  | -0.02972755  |  0.47620095  |  0.26031433  | -0.5686714   | ...          | -0.208253515 | -0.559824796 | -0.02639767  | -0.37142658  | -0.2327938   |  0.1059148   |  0.253844225 |  0.08108026  |   3.67       | 0            |\n",
       "\n"
      ],
      "text/plain": [
       "  Time V1         V2          V3        V4         V5          V6         \n",
       "1 0    -1.3598071 -0.07278117 2.5363467  1.3781552 -0.33832077  0.46238778\n",
       "2 0     1.1918571  0.26615071 0.1664801  0.4481541  0.06001765 -0.08236081\n",
       "3 1    -1.3583541 -1.34016307 1.7732093  0.3797796 -0.50319813  1.80049938\n",
       "4 1    -0.9662717 -0.18522601 1.7929933 -0.8632913 -0.01030888  1.24720317\n",
       "5 2    -1.1582331  0.87773675 1.5487178  0.4030339 -0.40719338  0.09592146\n",
       "6 2    -0.4259659  0.96052304 1.1411093 -0.1682521  0.42098688 -0.02972755\n",
       "  V7          V8          V9         ... V21          V22          V23        \n",
       "1  0.23959855  0.09869790  0.3637870 ... -0.018306778  0.277837576 -0.11047391\n",
       "2 -0.07880298  0.08510165 -0.2554251 ... -0.225775248 -0.638671953  0.10128802\n",
       "3  0.79146096  0.24767579 -1.5146543 ...  0.247998153  0.771679402  0.90941226\n",
       "4  0.23760894  0.37743587 -1.3870241 ... -0.108300452  0.005273597 -0.19032052\n",
       "5  0.59294075 -0.27053268  0.8177393 ... -0.009430697  0.798278495 -0.13745808\n",
       "6  0.47620095  0.26031433 -0.5686714 ... -0.208253515 -0.559824796 -0.02639767\n",
       "  V24         V25        V26        V27          V28         Amount Class\n",
       "1  0.06692807  0.1285394 -0.1891148  0.133558377 -0.02105305 149.62 0    \n",
       "2 -0.33984648  0.1671704  0.1258945 -0.008983099  0.01472417   2.69 0    \n",
       "3 -0.68928096 -0.3276418 -0.1390966 -0.055352794 -0.05975184 378.66 0    \n",
       "4 -1.17557533  0.6473760 -0.2219288  0.062722849  0.06145763 123.50 0    \n",
       "5  0.14126698 -0.2060096  0.5022922  0.219422230  0.21515315  69.99 0    \n",
       "6 -0.37142658 -0.2327938  0.1059148  0.253844225  0.08108026   3.67 0    "
      ]
     },
     "metadata": {},
     "output_type": "display_data"
    }
   ],
   "source": [
    "head(data)"
   ]
  },
  {
   "cell_type": "code",
   "execution_count": 4,
   "metadata": {},
   "outputs": [
    {
     "data": {
      "text/html": [
       "<ol class=list-inline>\n",
       "\t<li>'Time'</li>\n",
       "\t<li>'V1'</li>\n",
       "\t<li>'V2'</li>\n",
       "\t<li>'V3'</li>\n",
       "\t<li>'V4'</li>\n",
       "\t<li>'V5'</li>\n",
       "\t<li>'V6'</li>\n",
       "\t<li>'V7'</li>\n",
       "\t<li>'V8'</li>\n",
       "\t<li>'V9'</li>\n",
       "\t<li>'V10'</li>\n",
       "\t<li>'V11'</li>\n",
       "\t<li>'V12'</li>\n",
       "\t<li>'V13'</li>\n",
       "\t<li>'V14'</li>\n",
       "\t<li>'V15'</li>\n",
       "\t<li>'V16'</li>\n",
       "\t<li>'V17'</li>\n",
       "\t<li>'V18'</li>\n",
       "\t<li>'V19'</li>\n",
       "\t<li>'V20'</li>\n",
       "\t<li>'V21'</li>\n",
       "\t<li>'V22'</li>\n",
       "\t<li>'V23'</li>\n",
       "\t<li>'V24'</li>\n",
       "\t<li>'V25'</li>\n",
       "\t<li>'V26'</li>\n",
       "\t<li>'V27'</li>\n",
       "\t<li>'V28'</li>\n",
       "\t<li>'Amount'</li>\n",
       "\t<li>'Class'</li>\n",
       "</ol>\n"
      ],
      "text/latex": [
       "\\begin{enumerate*}\n",
       "\\item 'Time'\n",
       "\\item 'V1'\n",
       "\\item 'V2'\n",
       "\\item 'V3'\n",
       "\\item 'V4'\n",
       "\\item 'V5'\n",
       "\\item 'V6'\n",
       "\\item 'V7'\n",
       "\\item 'V8'\n",
       "\\item 'V9'\n",
       "\\item 'V10'\n",
       "\\item 'V11'\n",
       "\\item 'V12'\n",
       "\\item 'V13'\n",
       "\\item 'V14'\n",
       "\\item 'V15'\n",
       "\\item 'V16'\n",
       "\\item 'V17'\n",
       "\\item 'V18'\n",
       "\\item 'V19'\n",
       "\\item 'V20'\n",
       "\\item 'V21'\n",
       "\\item 'V22'\n",
       "\\item 'V23'\n",
       "\\item 'V24'\n",
       "\\item 'V25'\n",
       "\\item 'V26'\n",
       "\\item 'V27'\n",
       "\\item 'V28'\n",
       "\\item 'Amount'\n",
       "\\item 'Class'\n",
       "\\end{enumerate*}\n"
      ],
      "text/markdown": [
       "1. 'Time'\n",
       "2. 'V1'\n",
       "3. 'V2'\n",
       "4. 'V3'\n",
       "5. 'V4'\n",
       "6. 'V5'\n",
       "7. 'V6'\n",
       "8. 'V7'\n",
       "9. 'V8'\n",
       "10. 'V9'\n",
       "11. 'V10'\n",
       "12. 'V11'\n",
       "13. 'V12'\n",
       "14. 'V13'\n",
       "15. 'V14'\n",
       "16. 'V15'\n",
       "17. 'V16'\n",
       "18. 'V17'\n",
       "19. 'V18'\n",
       "20. 'V19'\n",
       "21. 'V20'\n",
       "22. 'V21'\n",
       "23. 'V22'\n",
       "24. 'V23'\n",
       "25. 'V24'\n",
       "26. 'V25'\n",
       "27. 'V26'\n",
       "28. 'V27'\n",
       "29. 'V28'\n",
       "30. 'Amount'\n",
       "31. 'Class'\n",
       "\n",
       "\n"
      ],
      "text/plain": [
       " [1] \"Time\"   \"V1\"     \"V2\"     \"V3\"     \"V4\"     \"V5\"     \"V6\"     \"V7\"    \n",
       " [9] \"V8\"     \"V9\"     \"V10\"    \"V11\"    \"V12\"    \"V13\"    \"V14\"    \"V15\"   \n",
       "[17] \"V16\"    \"V17\"    \"V18\"    \"V19\"    \"V20\"    \"V21\"    \"V22\"    \"V23\"   \n",
       "[25] \"V24\"    \"V25\"    \"V26\"    \"V27\"    \"V28\"    \"Amount\" \"Class\" "
      ]
     },
     "metadata": {},
     "output_type": "display_data"
    }
   ],
   "source": [
    "names(data)"
   ]
  },
  {
   "cell_type": "code",
   "execution_count": 5,
   "metadata": {},
   "outputs": [
    {
     "data": {
      "text/plain": [
       "          \n",
       "           0\n",
       "  25691.16 1"
      ]
     },
     "metadata": {},
     "output_type": "display_data"
    }
   ],
   "source": [
    "table(max(data$Amount),min(data$Amount))"
   ]
  },
  {
   "cell_type": "code",
   "execution_count": 6,
   "metadata": {},
   "outputs": [],
   "source": [
    "# V1-V28 these are principal components\n",
    "# Time- since it is a transactional data set, will have more than 1 line for a specific time period\n",
    "# Amount- amount involved in the transaction\n",
    "# Class- target variable"
   ]
  },
  {
   "cell_type": "code",
   "execution_count": 7,
   "metadata": {},
   "outputs": [],
   "source": [
    "# Exploratory data analysis\n",
    "# Univariate: distributions\n",
    "# Bi-variate: correlations\n",
    "# Multivariate: correlations"
   ]
  },
  {
   "cell_type": "code",
   "execution_count": 8,
   "metadata": {},
   "outputs": [],
   "source": [
    "#table(data$Time,data$Class)"
   ]
  },
  {
   "cell_type": "code",
   "execution_count": 9,
   "metadata": {},
   "outputs": [
    {
     "name": "stderr",
     "output_type": "stream",
     "text": [
      "Loading required package: lattice\n",
      "Loading required package: ggplot2\n",
      "Registered S3 methods overwritten by 'ggplot2':\n",
      "  method         from \n",
      "  [.quosures     rlang\n",
      "  c.quosures     rlang\n",
      "  print.quosures rlang\n"
     ]
    }
   ],
   "source": [
    "library(caret)"
   ]
  },
  {
   "cell_type": "code",
   "execution_count": 10,
   "metadata": {},
   "outputs": [
    {
     "data": {
      "text/html": [
       "<table>\n",
       "<thead><tr><th></th><th scope=col>mpg</th><th scope=col>cyl</th><th scope=col>disp</th><th scope=col>hp</th><th scope=col>drat</th><th scope=col>wt</th><th scope=col>qsec</th><th scope=col>vs</th><th scope=col>am</th><th scope=col>gear</th><th scope=col>carb</th></tr></thead>\n",
       "<tbody>\n",
       "\t<tr><th scope=row>Mazda RX4</th><td>21.0 </td><td>6    </td><td>160  </td><td>110  </td><td>3.90 </td><td>2.620</td><td>16.46</td><td>0    </td><td>1    </td><td>4    </td><td>4    </td></tr>\n",
       "\t<tr><th scope=row>Mazda RX4 Wag</th><td>21.0 </td><td>6    </td><td>160  </td><td>110  </td><td>3.90 </td><td>2.875</td><td>17.02</td><td>0    </td><td>1    </td><td>4    </td><td>4    </td></tr>\n",
       "\t<tr><th scope=row>Datsun 710</th><td>22.8 </td><td>4    </td><td>108  </td><td> 93  </td><td>3.85 </td><td>2.320</td><td>18.61</td><td>1    </td><td>1    </td><td>4    </td><td>1    </td></tr>\n",
       "\t<tr><th scope=row>Hornet 4 Drive</th><td>21.4 </td><td>6    </td><td>258  </td><td>110  </td><td>3.08 </td><td>3.215</td><td>19.44</td><td>1    </td><td>0    </td><td>3    </td><td>1    </td></tr>\n",
       "\t<tr><th scope=row>Hornet Sportabout</th><td>18.7 </td><td>8    </td><td>360  </td><td>175  </td><td>3.15 </td><td>3.440</td><td>17.02</td><td>0    </td><td>0    </td><td>3    </td><td>2    </td></tr>\n",
       "\t<tr><th scope=row>Valiant</th><td>18.1 </td><td>6    </td><td>225  </td><td>105  </td><td>2.76 </td><td>3.460</td><td>20.22</td><td>1    </td><td>0    </td><td>3    </td><td>1    </td></tr>\n",
       "</tbody>\n",
       "</table>\n"
      ],
      "text/latex": [
       "\\begin{tabular}{r|lllllllllll}\n",
       "  & mpg & cyl & disp & hp & drat & wt & qsec & vs & am & gear & carb\\\\\n",
       "\\hline\n",
       "\tMazda RX4 & 21.0  & 6     & 160   & 110   & 3.90  & 2.620 & 16.46 & 0     & 1     & 4     & 4    \\\\\n",
       "\tMazda RX4 Wag & 21.0  & 6     & 160   & 110   & 3.90  & 2.875 & 17.02 & 0     & 1     & 4     & 4    \\\\\n",
       "\tDatsun 710 & 22.8  & 4     & 108   &  93   & 3.85  & 2.320 & 18.61 & 1     & 1     & 4     & 1    \\\\\n",
       "\tHornet 4 Drive & 21.4  & 6     & 258   & 110   & 3.08  & 3.215 & 19.44 & 1     & 0     & 3     & 1    \\\\\n",
       "\tHornet Sportabout & 18.7  & 8     & 360   & 175   & 3.15  & 3.440 & 17.02 & 0     & 0     & 3     & 2    \\\\\n",
       "\tValiant & 18.1  & 6     & 225   & 105   & 2.76  & 3.460 & 20.22 & 1     & 0     & 3     & 1    \\\\\n",
       "\\end{tabular}\n"
      ],
      "text/markdown": [
       "\n",
       "| <!--/--> | mpg | cyl | disp | hp | drat | wt | qsec | vs | am | gear | carb |\n",
       "|---|---|---|---|---|---|---|---|---|---|---|---|\n",
       "| Mazda RX4 | 21.0  | 6     | 160   | 110   | 3.90  | 2.620 | 16.46 | 0     | 1     | 4     | 4     |\n",
       "| Mazda RX4 Wag | 21.0  | 6     | 160   | 110   | 3.90  | 2.875 | 17.02 | 0     | 1     | 4     | 4     |\n",
       "| Datsun 710 | 22.8  | 4     | 108   |  93   | 3.85  | 2.320 | 18.61 | 1     | 1     | 4     | 1     |\n",
       "| Hornet 4 Drive | 21.4  | 6     | 258   | 110   | 3.08  | 3.215 | 19.44 | 1     | 0     | 3     | 1     |\n",
       "| Hornet Sportabout | 18.7  | 8     | 360   | 175   | 3.15  | 3.440 | 17.02 | 0     | 0     | 3     | 2     |\n",
       "| Valiant | 18.1  | 6     | 225   | 105   | 2.76  | 3.460 | 20.22 | 1     | 0     | 3     | 1     |\n",
       "\n"
      ],
      "text/plain": [
       "                  mpg  cyl disp hp  drat wt    qsec  vs am gear carb\n",
       "Mazda RX4         21.0 6   160  110 3.90 2.620 16.46 0  1  4    4   \n",
       "Mazda RX4 Wag     21.0 6   160  110 3.90 2.875 17.02 0  1  4    4   \n",
       "Datsun 710        22.8 4   108   93 3.85 2.320 18.61 1  1  4    1   \n",
       "Hornet 4 Drive    21.4 6   258  110 3.08 3.215 19.44 1  0  3    1   \n",
       "Hornet Sportabout 18.7 8   360  175 3.15 3.440 17.02 0  0  3    2   \n",
       "Valiant           18.1 6   225  105 2.76 3.460 20.22 1  0  3    1   "
      ]
     },
     "metadata": {},
     "output_type": "display_data"
    }
   ],
   "source": [
    "head(mtcars)"
   ]
  },
  {
   "cell_type": "code",
   "execution_count": 11,
   "metadata": {},
   "outputs": [
    {
     "data": {
      "image/png": "[encoded data removed]",
      "text/plain": [
       "plot without title"
      ]
     },
     "metadata": {},
     "output_type": "display_data"
    }
   ],
   "source": [
    "# pairwise plots of all the attributes by class\n",
    "featurePlot(x=mtcars[,1:9],y=mtcars[,10],plot = 'pairs')"
   ]
  },
  {
   "cell_type": "code",
   "execution_count": 12,
   "metadata": {},
   "outputs": [
    {
     "data": {
      "image/png": "[encoded data removed]",
      "text/plain": [
       "plot without title"
      ]
     },
     "metadata": {},
     "output_type": "display_data"
    }
   ],
   "source": [
    "featurePlot(x=mtcars[,1:10],y=mtcars[,11],plot = 'pairs')"
   ]
  },
  {
   "cell_type": "code",
   "execution_count": 13,
   "metadata": {},
   "outputs": [
    {
     "data": {
      "text/plain": [
       "NULL"
      ]
     },
     "metadata": {},
     "output_type": "display_data"
    }
   ],
   "source": [
    "# density plots for each attribute by the class\n",
    "featurePlot(x=data[,2:29],y=data[,31],plot = 'density')"
   ]
  },
  {
   "cell_type": "code",
   "execution_count": 14,
   "metadata": {},
   "outputs": [
    {
     "ename": "ERROR",
     "evalue": "Error in library(corrplot): there is no package called 'corrplot'\n",
     "output_type": "error",
     "traceback": [
      "Error in library(corrplot): there is no package called 'corrplot'\nTraceback:\n",
      "1. library(corrplot)"
     ]
    }
   ],
   "source": [
    "library(corrplot)"
   ]
  },
  {
   "cell_type": "code",
   "execution_count": null,
   "metadata": {},
   "outputs": [],
   "source": [
    "corrplot(cor(data[,2:29]),method = 'number')"
   ]
  },
  {
   "cell_type": "code",
   "execution_count": null,
   "metadata": {},
   "outputs": [],
   "source": [
    "table(data$Class)"
   ]
  },
  {
   "cell_type": "code",
   "execution_count": null,
   "metadata": {},
   "outputs": [],
   "source": [
    "# Immbalanced data management\n",
    "\n",
    "#1- oversampling\n",
    "#2- undersampling\n",
    "#3- Mixed sampling\n"
   ]
  },
  {
   "cell_type": "code",
   "execution_count": null,
   "metadata": {},
   "outputs": [],
   "source": [
    "library(unbalanced)\n",
    "library(ROSE)"
   ]
  },
  {
   "cell_type": "code",
   "execution_count": null,
   "metadata": {},
   "outputs": [],
   "source": [
    "# feature selction methodology\n",
    "\n",
    "# to remove the features which are redundant (corr > 0.75)\n",
    "# rank the features by their importance (Learning Vector Quantization (LVQ) model)\n",
    "# select features using Recursive feature elimination (RFE) method"
   ]
  },
  {
   "cell_type": "code",
   "execution_count": null,
   "metadata": {},
   "outputs": [],
   "source": [
    "str(data)"
   ]
  },
  {
   "cell_type": "code",
   "execution_count": null,
   "metadata": {},
   "outputs": [],
   "source": [
    "data$Class <- as.factor(data$Class)"
   ]
  },
  {
   "cell_type": "code",
   "execution_count": null,
   "metadata": {},
   "outputs": [],
   "source": [
    "str(data)"
   ]
  },
  {
   "cell_type": "code",
   "execution_count": null,
   "metadata": {},
   "outputs": [],
   "source": [
    "library(caret)"
   ]
  },
  {
   "cell_type": "code",
   "execution_count": null,
   "metadata": {},
   "outputs": [],
   "source": [
    "data = data[,-1]"
   ]
  },
  {
   "cell_type": "code",
   "execution_count": null,
   "metadata": {},
   "outputs": [],
   "source": [
    "# data split for training and testing the models\n",
    "set.seed(1234)\n",
    "trainIndex = createDataPartition(data$Class,p=0.5,list=F,times = 1)"
   ]
  },
  {
   "cell_type": "code",
   "execution_count": null,
   "metadata": {},
   "outputs": [],
   "source": [
    "dataTrain = data[trainIndex,]\n",
    "dataTest = data[-trainIndex,]"
   ]
  },
  {
   "cell_type": "code",
   "execution_count": null,
   "metadata": {},
   "outputs": [],
   "source": [
    "head(dataTrain)"
   ]
  },
  {
   "cell_type": "code",
   "execution_count": null,
   "metadata": {},
   "outputs": [],
   "source": [
    "head(dataTest)"
   ]
  },
  {
   "cell_type": "code",
   "execution_count": null,
   "metadata": {},
   "outputs": [],
   "source": [
    "dim(dataTrain);dim(dataTest)"
   ]
  },
  {
   "cell_type": "code",
   "execution_count": null,
   "metadata": {},
   "outputs": [],
   "source": [
    "table(data$Class);table(dataTrain$Class);table(dataTest$Class)"
   ]
  },
  {
   "cell_type": "code",
   "execution_count": null,
   "metadata": {},
   "outputs": [],
   "source": [
    "# cross validation set up\n",
    "control <- trainControl(method = 'repeatedcv',number=3,repeats = 3)"
   ]
  },
  {
   "cell_type": "code",
   "execution_count": null,
   "metadata": {},
   "outputs": [],
   "source": [
    "# setting up accuracy\n",
    "metric <-\"Accuracy\""
   ]
  },
  {
   "cell_type": "code",
   "execution_count": null,
   "metadata": {},
   "outputs": [],
   "source": [
    "# select the pre-processing method\n",
    "preProcess <- c(\"center\",'scale')"
   ]
  },
  {
   "cell_type": "code",
   "execution_count": null,
   "metadata": {},
   "outputs": [],
   "source": [
    "#install.packages('e1071', dependencies=TRUE)"
   ]
  },
  {
   "cell_type": "code",
   "execution_count": null,
   "metadata": {},
   "outputs": [],
   "source": [
    "# linear discriminant analysis\n",
    "set.seed(1234)\n",
    "library(MASS)\n",
    "fit.lda <- train(Class~.,data=dataTrain,method = 'lda',metric = metric,preprocess = preProcess,trControl = control)"
   ]
  },
  {
   "cell_type": "code",
   "execution_count": null,
   "metadata": {},
   "outputs": [],
   "source": [
    "fit.lda"
   ]
  },
  {
   "cell_type": "code",
   "execution_count": null,
   "metadata": {},
   "outputs": [],
   "source": [
    "fit.lda$results"
   ]
  },
  {
   "cell_type": "code",
   "execution_count": null,
   "metadata": {},
   "outputs": [],
   "source": [
    "# Logistic regression analysis\n",
    "set.seed(1234)\n",
    "library(MASS)\n",
    "fit.glm <- train(Class~.,data=dataTrain,method = 'glm',metric = metric,trControl = control)"
   ]
  },
  {
   "cell_type": "code",
   "execution_count": null,
   "metadata": {},
   "outputs": [],
   "source": [
    "fit.glm"
   ]
  },
  {
   "cell_type": "code",
   "execution_count": null,
   "metadata": {},
   "outputs": [],
   "source": [
    "# GLMNet regression analysis\n",
    "set.seed(1234)\n",
    "library(glmnet)\n",
    "fit.glmnet <- train(Class~.,data=dataTrain,method = 'glmnet',metric = metric,trControl = control)"
   ]
  },
  {
   "cell_type": "code",
   "execution_count": null,
   "metadata": {},
   "outputs": [],
   "source": [
    "install.packages('kernlab', dependencies=TRUE)"
   ]
  },
  {
   "cell_type": "code",
   "execution_count": null,
   "metadata": {},
   "outputs": [],
   "source": [
    "# SVM \n",
    "library(kernlab)\n",
    "set.seed(1234)\n",
    "fit.svm <- train(Class~.,data=dataTrain,method = 'svmRadial',metric = metric,\n",
    "                 preprocess = preProcess,trControl = control,fit=F)"
   ]
  },
  {
   "cell_type": "code",
   "execution_count": null,
   "metadata": {},
   "outputs": [],
   "source": [
    "#KNN for classification\n",
    "set.seed(1234)\n",
    "fit.knn <- train(Class~.,data=dataTrain,method = 'knn',metric = metric,\n",
    "                 preprocess = preProcess,trControl = control)"
   ]
  },
  {
   "cell_type": "code",
   "execution_count": null,
   "metadata": {},
   "outputs": [],
   "source": [
    "# Naive Bayes\n",
    "set.seed(1234)\n",
    "library(klaR)\n",
    "fit.nb<-train(Class~.,data=dataTrain,method = 'nb',metric = metric,trControl = control)\n"
   ]
  },
  {
   "cell_type": "code",
   "execution_count": null,
   "metadata": {},
   "outputs": [],
   "source": [
    "# CART\n",
    "set.seed(1234)\n",
    "library(rpart)\n",
    "fit.cart<-train(Class~.,data=dataTrain,method = 'rpart',metric = metric,trControl = control)"
   ]
  },
  {
   "cell_type": "code",
   "execution_count": null,
   "metadata": {},
   "outputs": [],
   "source": [
    "install.packages('C50', dependencies=TRUE)"
   ]
  },
  {
   "cell_type": "code",
   "execution_count": null,
   "metadata": {},
   "outputs": [],
   "source": [
    "# Tree based model C5.0\n",
    "set.seed(1234)\n",
    "library(C50)\n",
    "fit.c50<-train(Class~.,data=dataTrain,method = 'C5.0',metric = metric,trControl = control)"
   ]
  },
  {
   "cell_type": "code",
   "execution_count": null,
   "metadata": {},
   "outputs": [],
   "source": [
    "# Bagging CART\n",
    "set.seed(1234)\n",
    "library(ipred)\n",
    "fit.treebag <-train(Class~.,data=dataTrain,method = 'treebag',metric = metric,trControl = control)"
   ]
  },
  {
   "cell_type": "code",
   "execution_count": null,
   "metadata": {},
   "outputs": [],
   "source": []
  },
  {
   "cell_type": "code",
   "execution_count": null,
   "metadata": {},
   "outputs": [],
   "source": []
  },
  {
   "cell_type": "code",
   "execution_count": null,
   "metadata": {},
   "outputs": [],
   "source": []
  },
  {
   "cell_type": "code",
   "execution_count": null,
   "metadata": {},
   "outputs": [],
   "source": []
  },
  {
   "cell_type": "code",
   "execution_count": null,
   "metadata": {},
   "outputs": [],
   "source": []
  },
  {
   "cell_type": "code",
   "execution_count": null,
   "metadata": {},
   "outputs": [],
   "source": []
  },
  {
   "cell_type": "code",
   "execution_count": null,
   "metadata": {},
   "outputs": [],
   "source": []
  },
  {
   "cell_type": "code",
   "execution_count": null,
   "metadata": {},
   "outputs": [],
   "source": []
  },
  {
   "cell_type": "code",
   "execution_count": null,
   "metadata": {},
   "outputs": [],
   "source": []
  },
  {
   "cell_type": "code",
   "execution_count": null,
   "metadata": {},
   "outputs": [],
   "source": []
  },
  {
   "cell_type": "code",
   "execution_count": null,
   "metadata": {},
   "outputs": [],
   "source": []
  }
 ],
 "metadata": {
  "kernelspec": {
   "display_name": "R",
   "language": "R",
   "name": "ir"
  },
  "language_info": {
   "codemirror_mode": "r",
   "file_extension": ".r",
   "mimetype": "text/x-r-source",
   "name": "R",
   "pygments_lexer": "r",
   "version": "3.6.1"
  }
 },
 "nbformat": 4,
 "nbformat_minor": 4
}
