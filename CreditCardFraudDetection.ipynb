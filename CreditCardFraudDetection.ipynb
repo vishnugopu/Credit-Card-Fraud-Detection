{
 "cells": [
  {
   "cell_type": "markdown",
   "metadata": {},
   "source": [
    "## Imports"
   ]
  },
  {
   "cell_type": "code",
   "execution_count": 1,
   "metadata": {},
   "outputs": [],
   "source": [
    "import pandas as pd\n",
    "import numpy as np\n",
    "import matplotlib.pyplot as plt\n",
    "\n",
    "from sklearn.linear_model import LogisticRegression\n",
    "from sklearn import metrics\n",
    "from sklearn.neighbors import KNeighborsClassifier\n",
    "from sklearn.ensemble import RandomForestClassifier"
   ]
  },
  {
   "cell_type": "markdown",
   "metadata": {},
   "source": [
    "## Read Data"
   ]
  },
  {
   "cell_type": "code",
   "execution_count": 2,
   "metadata": {},
   "outputs": [],
   "source": [
    "df=pd.read_csv(\"./creditcard.csv\")"
   ]
  },
  {
   "cell_type": "code",
   "execution_count": 3,
   "metadata": {},
   "outputs": [
    {
     "data": {
      "text/plain": [
       "0         0\n",
       "1         0\n",
       "2         0\n",
       "3         0\n",
       "4         0\n",
       "         ..\n",
       "284802    0\n",
       "284803    0\n",
       "284804    0\n",
       "284805    0\n",
       "284806    0\n",
       "Name: Class, Length: 284807, dtype: int64"
      ]
     },
     "execution_count": 3,
     "metadata": {},
     "output_type": "execute_result"
    }
   ],
   "source": [
    "#creating target series\n",
    "target=df['Class']\n",
    "target"
   ]
  },
  {
   "cell_type": "code",
   "execution_count": 4,
   "metadata": {},
   "outputs": [
    {
     "data": {
      "text/plain": [
       "(284807, 30)"
      ]
     },
     "execution_count": 4,
     "metadata": {},
     "output_type": "execute_result"
    }
   ],
   "source": [
    "df.drop('Class',axis=1,inplace=True)\n",
    "df.shape"
   ]
  },
  {
   "cell_type": "code",
   "execution_count": 5,
   "metadata": {},
   "outputs": [
    {
     "data": {
      "text/plain": [
       "(284807,)"
      ]
     },
     "execution_count": 5,
     "metadata": {},
     "output_type": "execute_result"
    }
   ],
   "source": [
    "#converting them to numpy arrays\n",
    "X=np.array(df)\n",
    "y=np.array(target)\n",
    "X.shape\n",
    "y.shape"
   ]
  },
  {
   "cell_type": "code",
   "execution_count": 6,
   "metadata": {},
   "outputs": [
    {
     "data": {
      "text/plain": [
       "(492, 284315)"
      ]
     },
     "execution_count": 6,
     "metadata": {},
     "output_type": "execute_result"
    }
   ],
   "source": [
    "#distribution of the target variable\n",
    "len(y[y==1]),len(y[y==0])"
   ]
  },
  {
   "cell_type": "markdown",
   "metadata": {},
   "source": [
    "## Train and Test Split (80:20)"
   ]
  },
  {
   "cell_type": "code",
   "execution_count": 7,
   "metadata": {},
   "outputs": [
    {
     "name": "stdout",
     "output_type": "stream",
     "text": [
      "(227845, 30) (56962, 30) (227845,) (56962,)\n"
     ]
    }
   ],
   "source": [
    "from sklearn.model_selection import train_test_split\n",
    "X_train,X_test,y_train,y_test=train_test_split(X,y,test_size=0.2,random_state=1)\n",
    "print(X_train.shape,X_test.shape,y_train.shape,y_test.shape)"
   ]
  },
  {
   "cell_type": "code",
   "execution_count": 8,
   "metadata": {},
   "outputs": [
    {
     "name": "stdout",
     "output_type": "stream",
     "text": [
      "(454880, 30) (454880,)\n",
      "227440 227440\n"
     ]
    }
   ],
   "source": [
    "#applyting SMOTE to oversample the minority class\n",
    "from imblearn.over_sampling import SMOTE\n",
    "sm=SMOTE(random_state=2)\n",
    "X_sm,y_sm=sm.fit_sample(X_train,y_train)\n",
    "print(X_sm.shape,y_sm.shape)\n",
    "print(len(y_sm[y_sm==1]),len(y_sm[y_sm==0]))"
   ]
  },
  {
   "cell_type": "markdown",
   "metadata": {},
   "source": [
    "## Logistic Regression"
   ]
  },
  {
   "cell_type": "code",
   "execution_count": 9,
   "metadata": {},
   "outputs": [],
   "source": [
    "logreg=LogisticRegression()\n",
    "logreg.fit(X_sm,y_sm)\n",
    "y_logreg=logreg.predict(X_test)\n",
    "y_logreg_prob=logreg.predict_proba(X_test)[:,1]"
   ]
  },
  {
   "cell_type": "markdown",
   "metadata": {},
   "source": [
    "## Metric Evaluation"
   ]
  },
  {
   "cell_type": "code",
   "execution_count": 10,
   "metadata": {},
   "outputs": [
    {
     "name": "stdout",
     "output_type": "stream",
     "text": [
      "Confusion Matrix:\n",
      " [[55905   970]\n",
      " [   15    72]]\n",
      "Accuracy:\n",
      " 0.9827077700923422\n",
      "Precision:\n",
      " 0.0690978886756238\n",
      "Recall:\n",
      " 0.8275862068965517\n",
      "AUC:\n",
      " 0.9550223569533915\n"
     ]
    }
   ],
   "source": [
    "print(\"Confusion Matrix:\\n\",metrics.confusion_matrix(y_test,y_logreg))\n",
    "print(\"Accuracy:\\n\",metrics.accuracy_score(y_test,y_logreg))\n",
    "print(\"Precision:\\n\",metrics.precision_score(y_test,y_logreg))\n",
    "print(\"Recall:\\n\",metrics.recall_score(y_test,y_logreg))\n",
    "print(\"AUC:\\n\",metrics.roc_auc_score(y_test,y_logreg_prob))\n",
    "auc=metrics.roc_auc_score(y_test,y_logreg_prob)"
   ]
  },
  {
   "cell_type": "code",
   "execution_count": 11,
   "metadata": {},
   "outputs": [
    {
     "data": {
      "image/png": "[encoded data removed]",
      "text/plain": [
       "<Figure size 432x288 with 1 Axes>"
      ]
     },
     "metadata": {
      "needs_background": "light"
     },
     "output_type": "display_data"
    }
   ],
   "source": [
    "fpr,tpr,thresholds=metrics.roc_curve(y_test,y_logreg_prob)\n",
    "plt.plot(fpr,tpr,'b', label='AUC = %0.2f'% auc)\n",
    "plt.plot([0,1],[0,1],'r-.')\n",
    "plt.xlim([-0.2,1.2])\n",
    "plt.ylim([-0.2,1.2])\n",
    "plt.title('Receiver Operating Characteristic (ROC)\\nLogistic Regression')\n",
    "plt.legend(loc='lower right')\n",
    "plt.ylabel('True Positive Rate')\n",
    "plt.xlabel('False Positive Rate')\n",
    "plt.show()"
   ]
  },
  {
   "cell_type": "markdown",
   "metadata": {},
   "source": [
    "## K Nearest Neighbors"
   ]
  },
  {
   "cell_type": "code",
   "execution_count": null,
   "metadata": {},
   "outputs": [],
   "source": [
    "knn=KNeighborsClassifier(n_neighbors=5)\n",
    "knn.fit(X_sm,y_sm)\n",
    "y_knn=knn.predict(X_test)\n",
    "y_knn_prob=knn.predict_proba(X_test)[:,1]"
   ]
  },
  {
   "cell_type": "markdown",
   "metadata": {},
   "source": [
    "## Metrics Evaluation"
   ]
  },
  {
   "cell_type": "code",
   "execution_count": null,
   "metadata": {},
   "outputs": [],
   "source": [
    "print(metrics.confusion_matrix(y_test,y_knn))\n",
    "print(metrics.accuracy_score(y_test,y_knn))\n",
    "print(metrics.precision_score(y_test,y_knn))\n",
    "print(metrics.recall_score(y_test,y_knn))\n",
    "print(metrics.roc_auc_score(y_test,y_knn_prob))"
   ]
  },
  {
   "cell_type": "code",
   "execution_count": null,
   "metadata": {},
   "outputs": [],
   "source": [
    "fpr,tpr,thresholds=metrics.roc_curve(y_test,y_knn_prob)\n",
    "plt.plot(fpr,tpr)\n",
    "plt.xlim([0.0,1.0])\n",
    "plt.ylim([0.0,1.0])\n",
    "plt.title('ROC Curve - K Nearest Neighbors')\n",
    "plt.show()"
   ]
  },
  {
   "cell_type": "markdown",
   "metadata": {},
   "source": [
    "## Random Forest"
   ]
  },
  {
   "cell_type": "code",
   "execution_count": null,
   "metadata": {},
   "outputs": [],
   "source": [
    "rf=RandomForestClassifier(random_state=3)\n",
    "rf.fit(X_sm,y_sm)\n",
    "y_rf=rf.predict(X_test)\n",
    "y_rf_prob=rf.predict_proba(X_test)[:,1]"
   ]
  },
  {
   "cell_type": "code",
   "execution_count": null,
   "metadata": {},
   "outputs": [],
   "source": [
    "#Performance metrics evaluation\n",
    "print(\"Confusion Matrix:\\n\",metrics.confusion_matrix(y_test,y_rf))\n",
    "print(\"Accuracy:\\n\",metrics.accuracy_score(y_test,y_rf))\n",
    "print(\"Precision:\\n\",metrics.precision_score(y_test,y_rf))\n",
    "print(\"Recall:\\n\",metrics.recall_score(y_test,y_rf))\n",
    "print(\"AUC:\\n\",metrics.roc_auc_score(y_test,y_rf_prob))\n",
    "auc=metrics.roc_auc_score(y_test,y_rf_prob)"
   ]
  },
  {
   "cell_type": "code",
   "execution_count": null,
   "metadata": {},
   "outputs": [],
   "source": [
    "#plotting the ROC curve\n",
    "fpr,tpr,thresholds=metrics.roc_curve(y_test,y_rf_prob)\n",
    "plt.plot(fpr,tpr,'b', label='AUC = %0.2f'% auc)\n",
    "plt.plot([0,1],[0,1],'r-.')\n",
    "plt.xlim([-0.2,1])\n",
    "plt.ylim([-0.2,1])\n",
    "plt.title('Receiver Operating Characteristic\\nRandom Forest')\n",
    "plt.legend(loc='lower right')\n",
    "plt.ylabel('True Positive Rate')\n",
    "plt.xlabel('False Positive Rate')\n",
    "plt.show()"
   ]
  },
  {
   "cell_type": "code",
   "execution_count": null,
   "metadata": {},
   "outputs": [],
   "source": [
    "#Random Forest\n",
    "\n",
    "rf=RandomForestClassifier(criterion='entropy',random_state=3)\n",
    "rf.fit(X_sm,y_sm)\n",
    "y_rf=rf.predict(X_test)\n",
    "y_rf_prob=rf.predict_proba(X_test)[:,1]"
   ]
  },
  {
   "cell_type": "code",
   "execution_count": null,
   "metadata": {},
   "outputs": [],
   "source": [
    "#Performance metrics evaluation\n",
    "print(\"Confusion Matrix:\\n\",metrics.confusion_matrix(y_test,y_rf))\n",
    "print(\"Accuracy:\\n\",metrics.accuracy_score(y_test,y_rf))\n",
    "print(\"Precision:\\n\",metrics.precision_score(y_test,y_rf))\n",
    "print(\"Recall:\\n\",metrics.recall_score(y_test,y_rf))\n",
    "print(\"AUC:\\n\",metrics.roc_auc_score(y_test,y_rf_prob))\n",
    "auc=metrics.roc_auc_score(y_test,y_rf_prob)"
   ]
  },
  {
   "cell_type": "code",
   "execution_count": null,
   "metadata": {},
   "outputs": [],
   "source": [
    "#plotting the ROC curve\n",
    "fpr,tpr,thresholds=metrics.roc_curve(y_test,y_rf_prob)\n",
    "plt.plot(fpr,tpr,'b', label='AUC = %0.2f'% auc)\n",
    "plt.plot([0,1],[0,1],'r-.')\n",
    "plt.xlim([-0.2,1])\n",
    "plt.ylim([-0.2,1])\n",
    "plt.title('Receiver Operating Characteristic\\nRandom Forest')\n",
    "plt.legend(loc='lower right')\n",
    "plt.ylabel('True Positive Rate')\n",
    "plt.xlabel('False Positive Rate')\n",
    "plt.show()"
   ]
  }
 ],
 "metadata": {
  "anaconda-cloud": {},
  "kernelspec": {
   "display_name": "Python 3",
   "language": "python",
   "name": "python3"
  },
  "language_info": {
   "codemirror_mode": {
    "name": "ipython",
    "version": 3
   },
   "file_extension": ".py",
   "mimetype": "text/x-python",
   "name": "python",
   "nbconvert_exporter": "python",
   "pygments_lexer": "ipython3",
   "version": "3.7.6"
  }
 },
 "nbformat": 4,
 "nbformat_minor": 1
}
